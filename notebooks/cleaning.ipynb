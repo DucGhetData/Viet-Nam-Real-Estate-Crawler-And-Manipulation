{
 "cells": [
  {
   "cell_type": "markdown",
   "id": "3c93fefb",
   "metadata": {},
   "source": [
    "# LÀM SẠCH VÀ CHUẨN HÓA DỮ LIỆU\n",
    "## 1. Xác định các yếu tố cần xử lý\n",
    "- Từ quá trình trích xuất dữ liệu ta sẽ cần xử lý các yếu tố sau:\n",
    "  - Xóa bỏ dữ liệu trùng lặp hoặc null\n",
    "  - Tách thông tin loại hình nhà ở, số phòng ngủ và hướng nhà ra thành 3 cột riêng biệt từ cột property_type\n",
    "  - Quy đổi giá nhà về cùng một đơn vị đối với cột total_price và price_per_m2\n",
    "  - Loại bỏ các thông tin không cần thiết trong cột location như thời gian đăng bài và loại tin đăng\n",
    "  - Loại bỏ các đơn vị tính không cần thiết\n",
    "---\n",
    "## 2. Import các thư viện cần thiết\n",
    "- Ta sẽ cần đến 2 thư viện pandas và re để xử lý dữ liệu"
   ]
  },
  {
   "cell_type": "code",
   "execution_count": 1,
   "id": "06eab561",
   "metadata": {},
   "outputs": [],
   "source": [
    "# Import các thư viện cần thiết\n",
    "import pandas as pd\n",
    "import matplotlib.pyplot as plt\n",
    "import re "
   ]
  },
  {
   "cell_type": "markdown",
   "id": "2a849e84",
   "metadata": {},
   "source": [
    "## 3. Load và xử lý dữ liệu tổng quát"
   ]
  },
  {
   "cell_type": "code",
   "execution_count": 2,
   "id": "86092c59",
   "metadata": {},
   "outputs": [
    {
     "data": {
      "text/html": [
       "<div>\n",
       "<style scoped>\n",
       "    .dataframe tbody tr th:only-of-type {\n",
       "        vertical-align: middle;\n",
       "    }\n",
       "\n",
       "    .dataframe tbody tr th {\n",
       "        vertical-align: top;\n",
       "    }\n",
       "\n",
       "    .dataframe thead th {\n",
       "        text-align: right;\n",
       "    }\n",
       "</style>\n",
       "<table border=\"1\" class=\"dataframe\">\n",
       "  <thead>\n",
       "    <tr style=\"text-align: right;\">\n",
       "      <th></th>\n",
       "      <th>url</th>\n",
       "      <th>property_type</th>\n",
       "      <th>total_price</th>\n",
       "      <th>price_per_m2</th>\n",
       "      <th>area</th>\n",
       "      <th>location</th>\n",
       "      <th>date</th>\n",
       "    </tr>\n",
       "  </thead>\n",
       "  <tbody>\n",
       "    <tr>\n",
       "      <th>0</th>\n",
       "      <td>https://www.nhatot.com/mua-ban-nha-dat-quan-ta...</td>\n",
       "      <td>8 PN • Nhà mặt phố, mặt tiền</td>\n",
       "      <td>92 tỷ</td>\n",
       "      <td>594 tr/m²</td>\n",
       "      <td>155 m²</td>\n",
       "      <td>Quận Tây Hồ • 6 giờ trước • Tin ưu tiên</td>\n",
       "      <td>2025-07-14</td>\n",
       "    </tr>\n",
       "    <tr>\n",
       "      <th>1</th>\n",
       "      <td>https://www.nhatot.com/mua-ban-can-ho-chung-cu...</td>\n",
       "      <td>2 PN • Chung cư</td>\n",
       "      <td>5,05 tỷ</td>\n",
       "      <td>66 tr/m²</td>\n",
       "      <td>77 m²</td>\n",
       "      <td>Huyện Gia Lâm • 5 giờ trước • Tin ưu tiên</td>\n",
       "      <td>2025-07-14</td>\n",
       "    </tr>\n",
       "    <tr>\n",
       "      <th>2</th>\n",
       "      <td>https://www.nhatot.com/mua-ban-nha-dat-quan-ho...</td>\n",
       "      <td>3 PN • Nhà ngõ, hẻm</td>\n",
       "      <td>6,65 tỷ</td>\n",
       "      <td>185 tr/m²</td>\n",
       "      <td>36 m²</td>\n",
       "      <td>Quận Hoàng Mai • 19 giờ trước • Tin ưu tiên</td>\n",
       "      <td>2025-07-14</td>\n",
       "    </tr>\n",
       "    <tr>\n",
       "      <th>3</th>\n",
       "      <td>https://www.nhatot.com/mua-ban-nha-dat-quan-lo...</td>\n",
       "      <td>4 PN • Hướng Tây Bắc • Nhà phố liền kề</td>\n",
       "      <td>26,5 tỷ</td>\n",
       "      <td>282 tr/m²</td>\n",
       "      <td>94 m²</td>\n",
       "      <td>Quận Long Biên • 2 giờ trước • Tin ưu tiên</td>\n",
       "      <td>2025-07-14</td>\n",
       "    </tr>\n",
       "    <tr>\n",
       "      <th>4</th>\n",
       "      <td>https://www.nhatot.com/mua-ban-can-ho-chung-cu...</td>\n",
       "      <td>3 PN • Hướng Đông Bắc • Chung cư</td>\n",
       "      <td>100 triệu</td>\n",
       "      <td>2 tr/m²</td>\n",
       "      <td>51 m²</td>\n",
       "      <td>Quận Long Biên • 6 giờ trước • Tin ưu tiên</td>\n",
       "      <td>2025-07-14</td>\n",
       "    </tr>\n",
       "    <tr>\n",
       "      <th>5</th>\n",
       "      <td>https://www.nhatot.com/mua-ban-can-ho-chung-cu...</td>\n",
       "      <td>3 PN • Hướng Tây Bắc • Chung cư</td>\n",
       "      <td>9,05 tỷ</td>\n",
       "      <td>75 tr/m²</td>\n",
       "      <td>120 m²</td>\n",
       "      <td>Quận Cầu Giấy • 3 phút trước</td>\n",
       "      <td>2025-07-14</td>\n",
       "    </tr>\n",
       "    <tr>\n",
       "      <th>6</th>\n",
       "      <td>https://www.nhatot.com/mua-ban-dat-huyen-thanh...</td>\n",
       "      <td>Đất thổ cư</td>\n",
       "      <td>1,4 tỷ</td>\n",
       "      <td>40 tr/m²</td>\n",
       "      <td>35 m²</td>\n",
       "      <td>Huyện Thanh Trì • 4 phút trước</td>\n",
       "      <td>2025-07-14</td>\n",
       "    </tr>\n",
       "    <tr>\n",
       "      <th>7</th>\n",
       "      <td>https://www.nhatot.com/mua-ban-dat-huyen-dong-...</td>\n",
       "      <td>Đất thổ cư • Ngang 4 m</td>\n",
       "      <td>4,2 tỷ</td>\n",
       "      <td>93 tr/m²</td>\n",
       "      <td>45 m²</td>\n",
       "      <td>Huyện Đông Anh • 4 phút trước</td>\n",
       "      <td>2025-07-14</td>\n",
       "    </tr>\n",
       "    <tr>\n",
       "      <th>8</th>\n",
       "      <td>https://www.nhatot.com/mua-ban-nha-dat-quan-th...</td>\n",
       "      <td>4 PN • Nhà ngõ, hẻm</td>\n",
       "      <td>11,9 tỷ</td>\n",
       "      <td>186 tr/m²</td>\n",
       "      <td>64 m²</td>\n",
       "      <td>Quận Thanh Xuân • 5 phút trước</td>\n",
       "      <td>2025-07-14</td>\n",
       "    </tr>\n",
       "    <tr>\n",
       "      <th>9</th>\n",
       "      <td>https://www.nhatot.com/mua-ban-nha-dat-quan-do...</td>\n",
       "      <td>3 PN • Nhà ngõ, hẻm</td>\n",
       "      <td>7 tỷ</td>\n",
       "      <td>250 tr/m²</td>\n",
       "      <td>28 m²</td>\n",
       "      <td>Quận Đống Đa • 6 phút trước</td>\n",
       "      <td>2025-07-14</td>\n",
       "    </tr>\n",
       "  </tbody>\n",
       "</table>\n",
       "</div>"
      ],
      "text/plain": [
       "                                                 url  \\\n",
       "0  https://www.nhatot.com/mua-ban-nha-dat-quan-ta...   \n",
       "1  https://www.nhatot.com/mua-ban-can-ho-chung-cu...   \n",
       "2  https://www.nhatot.com/mua-ban-nha-dat-quan-ho...   \n",
       "3  https://www.nhatot.com/mua-ban-nha-dat-quan-lo...   \n",
       "4  https://www.nhatot.com/mua-ban-can-ho-chung-cu...   \n",
       "5  https://www.nhatot.com/mua-ban-can-ho-chung-cu...   \n",
       "6  https://www.nhatot.com/mua-ban-dat-huyen-thanh...   \n",
       "7  https://www.nhatot.com/mua-ban-dat-huyen-dong-...   \n",
       "8  https://www.nhatot.com/mua-ban-nha-dat-quan-th...   \n",
       "9  https://www.nhatot.com/mua-ban-nha-dat-quan-do...   \n",
       "\n",
       "                            property_type total_price price_per_m2    area  \\\n",
       "0            8 PN • Nhà mặt phố, mặt tiền       92 tỷ    594 tr/m²  155 m²   \n",
       "1                         2 PN • Chung cư     5,05 tỷ     66 tr/m²   77 m²   \n",
       "2                     3 PN • Nhà ngõ, hẻm     6,65 tỷ    185 tr/m²   36 m²   \n",
       "3  4 PN • Hướng Tây Bắc • Nhà phố liền kề     26,5 tỷ    282 tr/m²   94 m²   \n",
       "4        3 PN • Hướng Đông Bắc • Chung cư   100 triệu      2 tr/m²   51 m²   \n",
       "5         3 PN • Hướng Tây Bắc • Chung cư     9,05 tỷ     75 tr/m²  120 m²   \n",
       "6                              Đất thổ cư      1,4 tỷ     40 tr/m²   35 m²   \n",
       "7                  Đất thổ cư • Ngang 4 m      4,2 tỷ     93 tr/m²   45 m²   \n",
       "8                     4 PN • Nhà ngõ, hẻm     11,9 tỷ    186 tr/m²   64 m²   \n",
       "9                     3 PN • Nhà ngõ, hẻm        7 tỷ    250 tr/m²   28 m²   \n",
       "\n",
       "                                      location        date  \n",
       "0      Quận Tây Hồ • 6 giờ trước • Tin ưu tiên  2025-07-14  \n",
       "1    Huyện Gia Lâm • 5 giờ trước • Tin ưu tiên  2025-07-14  \n",
       "2  Quận Hoàng Mai • 19 giờ trước • Tin ưu tiên  2025-07-14  \n",
       "3   Quận Long Biên • 2 giờ trước • Tin ưu tiên  2025-07-14  \n",
       "4   Quận Long Biên • 6 giờ trước • Tin ưu tiên  2025-07-14  \n",
       "5                 Quận Cầu Giấy • 3 phút trước  2025-07-14  \n",
       "6               Huyện Thanh Trì • 4 phút trước  2025-07-14  \n",
       "7                Huyện Đông Anh • 4 phút trước  2025-07-14  \n",
       "8               Quận Thanh Xuân • 5 phút trước  2025-07-14  \n",
       "9                  Quận Đống Đa • 6 phút trước  2025-07-14  "
      ]
     },
     "execution_count": 2,
     "metadata": {},
     "output_type": "execute_result"
    }
   ],
   "source": [
    "raw_df = pd.read_csv('F:\\\\Data Analyst\\\\Viet Nam Real Estate Crawler\\\\bat_dong_san.csv')\n",
    "raw_df.head(10)"
   ]
  },
  {
   "cell_type": "code",
   "execution_count": 3,
   "id": "d7d6a78a",
   "metadata": {},
   "outputs": [
    {
     "name": "stdout",
     "output_type": "stream",
     "text": [
      "<class 'pandas.core.frame.DataFrame'>\n",
      "RangeIndex: 9949 entries, 0 to 9948\n",
      "Data columns (total 7 columns):\n",
      " #   Column         Non-Null Count  Dtype \n",
      "---  ------         --------------  ----- \n",
      " 0   url            9949 non-null   object\n",
      " 1   property_type  9948 non-null   object\n",
      " 2   total_price    9949 non-null   object\n",
      " 3   price_per_m2   9948 non-null   object\n",
      " 4   area           9948 non-null   object\n",
      " 5   location       9949 non-null   object\n",
      " 6   date           9949 non-null   object\n",
      "dtypes: object(7)\n",
      "memory usage: 544.2+ KB\n"
     ]
    }
   ],
   "source": [
    "raw_df.info()"
   ]
  },
  {
   "cell_type": "code",
   "execution_count": 4,
   "id": "491c5b24",
   "metadata": {},
   "outputs": [
    {
     "name": "stdout",
     "output_type": "stream",
     "text": [
      "88\n"
     ]
    }
   ],
   "source": [
    "print(raw_df.duplicated().sum())"
   ]
  },
  {
   "cell_type": "code",
   "execution_count": 5,
   "id": "6fa9c468",
   "metadata": {},
   "outputs": [
    {
     "name": "stdout",
     "output_type": "stream",
     "text": [
      "Số dòng còn lại là: (9861, 7)\n"
     ]
    }
   ],
   "source": [
    "df = raw_df.drop_duplicates()\n",
    "print(\"Số dòng còn lại là:\", df.shape)"
   ]
  },
  {
   "cell_type": "code",
   "execution_count": 6,
   "id": "6b703469",
   "metadata": {},
   "outputs": [
    {
     "data": {
      "text/plain": [
       "url              0.000000\n",
       "property_type    0.010141\n",
       "total_price      0.000000\n",
       "price_per_m2     0.010141\n",
       "area             0.010141\n",
       "location         0.000000\n",
       "date             0.000000\n",
       "dtype: float64"
      ]
     },
     "execution_count": 6,
     "metadata": {},
     "output_type": "execute_result"
    }
   ],
   "source": [
    "df.isnull().sum()/len(df)*100"
   ]
  },
  {
   "cell_type": "code",
   "execution_count": 7,
   "id": "94cda74f",
   "metadata": {},
   "outputs": [
    {
     "data": {
      "text/html": [
       "<div>\n",
       "<style scoped>\n",
       "    .dataframe tbody tr th:only-of-type {\n",
       "        vertical-align: middle;\n",
       "    }\n",
       "\n",
       "    .dataframe tbody tr th {\n",
       "        vertical-align: top;\n",
       "    }\n",
       "\n",
       "    .dataframe thead th {\n",
       "        text-align: right;\n",
       "    }\n",
       "</style>\n",
       "<table border=\"1\" class=\"dataframe\">\n",
       "  <thead>\n",
       "    <tr style=\"text-align: right;\">\n",
       "      <th></th>\n",
       "      <th>url</th>\n",
       "      <th>property_type</th>\n",
       "      <th>total_price</th>\n",
       "      <th>price_per_m2</th>\n",
       "      <th>area</th>\n",
       "      <th>location</th>\n",
       "      <th>date</th>\n",
       "    </tr>\n",
       "  </thead>\n",
       "  <tbody>\n",
       "    <tr>\n",
       "      <th>9712</th>\n",
       "      <td>https://www.nhatot.com/mua-ban-phong-tro-quan-...</td>\n",
       "      <td>NaN</td>\n",
       "      <td>2,999 triệu</td>\n",
       "      <td>NaN</td>\n",
       "      <td>NaN</td>\n",
       "      <td>Quận Bắc Từ Liêm • 3 tuần trước</td>\n",
       "      <td>2025-07-14</td>\n",
       "    </tr>\n",
       "  </tbody>\n",
       "</table>\n",
       "</div>"
      ],
      "text/plain": [
       "                                                    url property_type  \\\n",
       "9712  https://www.nhatot.com/mua-ban-phong-tro-quan-...           NaN   \n",
       "\n",
       "      total_price price_per_m2 area                         location  \\\n",
       "9712  2,999 triệu          NaN  NaN  Quận Bắc Từ Liêm • 3 tuần trước   \n",
       "\n",
       "            date  \n",
       "9712  2025-07-14  "
      ]
     },
     "execution_count": 7,
     "metadata": {},
     "output_type": "execute_result"
    }
   ],
   "source": [
    "df[df['property_type'].isnull()]"
   ]
  },
  {
   "cell_type": "code",
   "execution_count": 8,
   "id": "7af59b2c",
   "metadata": {},
   "outputs": [
    {
     "name": "stderr",
     "output_type": "stream",
     "text": [
      "C:\\Users\\ASUS\\AppData\\Local\\Temp\\ipykernel_8072\\3559473248.py:1: SettingWithCopyWarning: \n",
      "A value is trying to be set on a copy of a slice from a DataFrame\n",
      "\n",
      "See the caveats in the documentation: https://pandas.pydata.org/pandas-docs/stable/user_guide/indexing.html#returning-a-view-versus-a-copy\n",
      "  df.dropna(subset=['property_type'], inplace=True)\n"
     ]
    }
   ],
   "source": [
    "df.dropna(subset=['property_type'], inplace=True)"
   ]
  },
  {
   "cell_type": "code",
   "execution_count": 9,
   "id": "bcdc5f93",
   "metadata": {},
   "outputs": [
    {
     "name": "stdout",
     "output_type": "stream",
     "text": [
      "<class 'pandas.core.frame.DataFrame'>\n",
      "Index: 9860 entries, 0 to 9948\n",
      "Data columns (total 7 columns):\n",
      " #   Column         Non-Null Count  Dtype \n",
      "---  ------         --------------  ----- \n",
      " 0   url            9860 non-null   object\n",
      " 1   property_type  9860 non-null   object\n",
      " 2   total_price    9860 non-null   object\n",
      " 3   price_per_m2   9860 non-null   object\n",
      " 4   area           9860 non-null   object\n",
      " 5   location       9860 non-null   object\n",
      " 6   date           9860 non-null   object\n",
      "dtypes: object(7)\n",
      "memory usage: 616.2+ KB\n"
     ]
    }
   ],
   "source": [
    "df.isnull().sum()/len(df)*100\n",
    "df.info()"
   ]
  },
  {
   "cell_type": "markdown",
   "id": "10b158c2",
   "metadata": {},
   "source": [
    "## 4. Xử lý chi tiết từng cột\n",
    "### 4.1 Xử lý cột property_type\n",
    "- Thông qua quá trình trích xuất dữ liệu, ta dễ dàng nhận thấy property_type là dữ liệu chi tiết về bất động sản và có cấu trúc: Số phòng ngủ(nếu có) • Hướng nhà(nếu có) • Loại hình bđs • Mặt tiền(nếu có)\n",
    "- Ta sẽ đặt ra quy trình xử lý bằng cách dựa vào số '•' xuất hiện:\n",
    "  - Trước hết Chuyển các bản ghi có mặt tiền(Ngang) về chỉ còn loại hình nhà đất\n",
    "  - Trích xuất số phòng ngủ và hướng nhà bằng regex sang 2 cột khác\n",
    "  - Giữ lại thông tin loại hình nhà đất ở cột property_type theo số '•' tương ứng"
   ]
  },
  {
   "cell_type": "code",
   "execution_count": 11,
   "id": "abc7f7ac",
   "metadata": {},
   "outputs": [
    {
     "data": {
      "text/html": [
       "<div>\n",
       "<style scoped>\n",
       "    .dataframe tbody tr th:only-of-type {\n",
       "        vertical-align: middle;\n",
       "    }\n",
       "\n",
       "    .dataframe tbody tr th {\n",
       "        vertical-align: top;\n",
       "    }\n",
       "\n",
       "    .dataframe thead th {\n",
       "        text-align: right;\n",
       "    }\n",
       "</style>\n",
       "<table border=\"1\" class=\"dataframe\">\n",
       "  <thead>\n",
       "    <tr style=\"text-align: right;\">\n",
       "      <th></th>\n",
       "      <th>url</th>\n",
       "      <th>property_type</th>\n",
       "      <th>total_price</th>\n",
       "      <th>price_per_m2</th>\n",
       "      <th>area</th>\n",
       "      <th>location</th>\n",
       "      <th>date</th>\n",
       "    </tr>\n",
       "  </thead>\n",
       "  <tbody>\n",
       "    <tr>\n",
       "      <th>7</th>\n",
       "      <td>https://www.nhatot.com/mua-ban-dat-huyen-dong-...</td>\n",
       "      <td>Đất thổ cư • Ngang 4 m</td>\n",
       "      <td>4,2 tỷ</td>\n",
       "      <td>93 tr/m²</td>\n",
       "      <td>45 m²</td>\n",
       "      <td>Huyện Đông Anh • 4 phút trước</td>\n",
       "      <td>2025-07-14</td>\n",
       "    </tr>\n",
       "    <tr>\n",
       "      <th>10</th>\n",
       "      <td>https://www.nhatot.com/mua-ban-dat-quan-bac-tu...</td>\n",
       "      <td>Đất thổ cư • Ngang 5.2 m</td>\n",
       "      <td>8,2 tỷ</td>\n",
       "      <td>137 tr/m²</td>\n",
       "      <td>60 m²</td>\n",
       "      <td>Quận Bắc Từ Liêm • 6 phút trước</td>\n",
       "      <td>2025-07-14</td>\n",
       "    </tr>\n",
       "    <tr>\n",
       "      <th>42</th>\n",
       "      <td>https://www.nhatot.com/mua-ban-dat-huyen-soc-s...</td>\n",
       "      <td>Đất thổ cư • Ngang 20 m</td>\n",
       "      <td>15 tỷ</td>\n",
       "      <td>30 tr/m²</td>\n",
       "      <td>500 m²</td>\n",
       "      <td>Huyện Sóc Sơn • 27 phút trước • Tin nổi bật</td>\n",
       "      <td>2025-07-14</td>\n",
       "    </tr>\n",
       "    <tr>\n",
       "      <th>48</th>\n",
       "      <td>https://www.nhatot.com/mua-ban-dat-quan-ha-don...</td>\n",
       "      <td>Đất nền dự án • Ngang 4 m</td>\n",
       "      <td>10,5 tỷ</td>\n",
       "      <td>210 tr/m²</td>\n",
       "      <td>50 m²</td>\n",
       "      <td>Quận Hà Đông • 31 phút trước</td>\n",
       "      <td>2025-07-14</td>\n",
       "    </tr>\n",
       "    <tr>\n",
       "      <th>55</th>\n",
       "      <td>https://www.nhatot.com/mua-ban-dat-quan-hoang-...</td>\n",
       "      <td>Đất thổ cư • Ngang 5.2 m</td>\n",
       "      <td>8 tỷ</td>\n",
       "      <td>110 tr/m²</td>\n",
       "      <td>73 m²</td>\n",
       "      <td>Quận Hoàng Mai • 35 phút trước • Tin nổi bật</td>\n",
       "      <td>2025-07-14</td>\n",
       "    </tr>\n",
       "  </tbody>\n",
       "</table>\n",
       "</div>"
      ],
      "text/plain": [
       "                                                  url  \\\n",
       "7   https://www.nhatot.com/mua-ban-dat-huyen-dong-...   \n",
       "10  https://www.nhatot.com/mua-ban-dat-quan-bac-tu...   \n",
       "42  https://www.nhatot.com/mua-ban-dat-huyen-soc-s...   \n",
       "48  https://www.nhatot.com/mua-ban-dat-quan-ha-don...   \n",
       "55  https://www.nhatot.com/mua-ban-dat-quan-hoang-...   \n",
       "\n",
       "                property_type total_price price_per_m2    area  \\\n",
       "7      Đất thổ cư • Ngang 4 m      4,2 tỷ     93 tr/m²   45 m²   \n",
       "10   Đất thổ cư • Ngang 5.2 m      8,2 tỷ    137 tr/m²   60 m²   \n",
       "42    Đất thổ cư • Ngang 20 m       15 tỷ     30 tr/m²  500 m²   \n",
       "48  Đất nền dự án • Ngang 4 m     10,5 tỷ    210 tr/m²   50 m²   \n",
       "55   Đất thổ cư • Ngang 5.2 m        8 tỷ    110 tr/m²   73 m²   \n",
       "\n",
       "                                        location        date  \n",
       "7                  Huyện Đông Anh • 4 phút trước  2025-07-14  \n",
       "10               Quận Bắc Từ Liêm • 6 phút trước  2025-07-14  \n",
       "42   Huyện Sóc Sơn • 27 phút trước • Tin nổi bật  2025-07-14  \n",
       "48                  Quận Hà Đông • 31 phút trước  2025-07-14  \n",
       "55  Quận Hoàng Mai • 35 phút trước • Tin nổi bật  2025-07-14  "
      ]
     },
     "execution_count": 11,
     "metadata": {},
     "output_type": "execute_result"
    }
   ],
   "source": [
    "property_type_ngang_df = df[df['property_type'].str.contains('Ngang', na=False)].copy()\n",
    "property_type_ngang_df.head()"
   ]
  },
  {
   "cell_type": "code",
   "execution_count": 12,
   "id": "6334303f",
   "metadata": {},
   "outputs": [
    {
     "name": "stderr",
     "output_type": "stream",
     "text": [
      "C:\\Users\\ASUS\\AppData\\Local\\Temp\\ipykernel_8072\\2432846228.py:5: SettingWithCopyWarning: \n",
      "A value is trying to be set on a copy of a slice from a DataFrame\n",
      "\n",
      "See the caveats in the documentation: https://pandas.pydata.org/pandas-docs/stable/user_guide/indexing.html#returning-a-view-versus-a-copy\n",
      "  df.loc[property_type_ngang_df.index, 'property_type'] = property_type_ngang_df['property_type']\n"
     ]
    }
   ],
   "source": [
    "# Xóa nội dung từ dấu • trở về sau trong cột property_type của property_type_ngang_df\n",
    "property_type_ngang_df['property_type'] = property_type_ngang_df['property_type'].str.split('•').str[0].str.strip()\n",
    "\n",
    "# Cập nhật lại dữ liệu vào df ban đầu dựa trên index của property_type_ngang_df\n",
    "df.loc[property_type_ngang_df.index, 'property_type'] = property_type_ngang_df['property_type']"
   ]
  },
  {
   "cell_type": "code",
   "execution_count": 13,
   "id": "17edb359",
   "metadata": {},
   "outputs": [
    {
     "name": "stderr",
     "output_type": "stream",
     "text": [
      "C:\\Users\\ASUS\\AppData\\Local\\Temp\\ipykernel_8072\\2887346256.py:10: SettingWithCopyWarning: \n",
      "A value is trying to be set on a copy of a slice from a DataFrame.\n",
      "Try using .loc[row_indexer,col_indexer] = value instead\n",
      "\n",
      "See the caveats in the documentation: https://pandas.pydata.org/pandas-docs/stable/user_guide/indexing.html#returning-a-view-versus-a-copy\n",
      "  df['number_bedroom'] = df['property_type'].apply(extract_bedroom)\n",
      "C:\\Users\\ASUS\\AppData\\Local\\Temp\\ipykernel_8072\\2887346256.py:11: SettingWithCopyWarning: \n",
      "A value is trying to be set on a copy of a slice from a DataFrame.\n",
      "Try using .loc[row_indexer,col_indexer] = value instead\n",
      "\n",
      "See the caveats in the documentation: https://pandas.pydata.org/pandas-docs/stable/user_guide/indexing.html#returning-a-view-versus-a-copy\n",
      "  df['house_direction'] = df['property_type'].apply(extract_direction)\n"
     ]
    }
   ],
   "source": [
    "# Tách số phòng ngủ (number_bedroom) và hướng nhà (house_direction) từ cột property_type\n",
    "def extract_bedroom(text):\n",
    "    match = re.search(r'(\\d+)\\s*PN', text)\n",
    "    return int(match.group(1)) if match else None\n",
    "\n",
    "def extract_direction(text):\n",
    "    match = re.search(r'Hướng\\s+([A-Za-zÀ-ỹ\\s]+)', text)\n",
    "    return match.group(1).strip() if match else None\n",
    "\n",
    "df['number_bedroom'] = df['property_type'].apply(extract_bedroom)\n",
    "df['house_direction'] = df['property_type'].apply(extract_direction)"
   ]
  },
  {
   "cell_type": "code",
   "execution_count": 14,
   "id": "8ded9ae9",
   "metadata": {},
   "outputs": [
    {
     "name": "stdout",
     "output_type": "stream",
     "text": [
      "<class 'pandas.core.frame.DataFrame'>\n",
      "Index: 9860 entries, 0 to 9948\n",
      "Data columns (total 9 columns):\n",
      " #   Column           Non-Null Count  Dtype  \n",
      "---  ------           --------------  -----  \n",
      " 0   url              9860 non-null   object \n",
      " 1   property_type    9860 non-null   object \n",
      " 2   total_price      9860 non-null   object \n",
      " 3   price_per_m2     9860 non-null   object \n",
      " 4   area             9860 non-null   object \n",
      " 5   location         9860 non-null   object \n",
      " 6   date             9860 non-null   object \n",
      " 7   number_bedroom   8792 non-null   float64\n",
      " 8   house_direction  1019 non-null   object \n",
      "dtypes: float64(1), object(8)\n",
      "memory usage: 1.0+ MB\n"
     ]
    }
   ],
   "source": [
    "df.info()"
   ]
  },
  {
   "cell_type": "code",
   "execution_count": 15,
   "id": "36760966",
   "metadata": {},
   "outputs": [
    {
     "data": {
      "text/plain": [
       "array([ 8.,  2.,  3.,  4., nan,  5.,  1., 10.,  6.,  7.,  9.])"
      ]
     },
     "execution_count": 15,
     "metadata": {},
     "output_type": "execute_result"
    }
   ],
   "source": [
    "df['number_bedroom'].unique()"
   ]
  },
  {
   "cell_type": "code",
   "execution_count": 16,
   "id": "5b076c19",
   "metadata": {},
   "outputs": [
    {
     "data": {
      "text/plain": [
       "array([None, 'Tây Bắc', 'Đông Bắc', 'Đông Nam', 'Tây Nam', 'Nam', 'Đông',\n",
       "       'Tây', 'Bắc'], dtype=object)"
      ]
     },
     "execution_count": 16,
     "metadata": {},
     "output_type": "execute_result"
    }
   ],
   "source": [
    "df['house_direction'].unique()"
   ]
  },
  {
   "cell_type": "code",
   "execution_count": 17,
   "id": "0d167faf",
   "metadata": {},
   "outputs": [
    {
     "name": "stderr",
     "output_type": "stream",
     "text": [
      "C:\\Users\\ASUS\\AppData\\Local\\Temp\\ipykernel_8072\\716287317.py:1: SettingWithCopyWarning: \n",
      "A value is trying to be set on a copy of a slice from a DataFrame.\n",
      "Try using .loc[row_indexer,col_indexer] = value instead\n",
      "\n",
      "See the caveats in the documentation: https://pandas.pydata.org/pandas-docs/stable/user_guide/indexing.html#returning-a-view-versus-a-copy\n",
      "  df['dot_count'] = df['property_type'].str.count('•')\n"
     ]
    }
   ],
   "source": [
    "df['dot_count'] = df['property_type'].str.count('•')"
   ]
  },
  {
   "cell_type": "code",
   "execution_count": 18,
   "id": "6ac1beb6",
   "metadata": {},
   "outputs": [
    {
     "data": {
      "text/plain": [
       "array([1, 2, 0])"
      ]
     },
     "execution_count": 18,
     "metadata": {},
     "output_type": "execute_result"
    }
   ],
   "source": [
    "df['dot_count'].unique()"
   ]
  },
  {
   "cell_type": "code",
   "execution_count": 20,
   "id": "99cf20e5",
   "metadata": {},
   "outputs": [],
   "source": [
    "def clean_property_type_dot1(text):\n",
    "    # Nếu không có dấu • thì trả về nguyên văn\n",
    "    if '•' not in text:\n",
    "        return text.strip()\n",
    "    # Loại bỏ nội dung từ dấu • trở về trước và xóa khoảng trắng thừa\n",
    "    return text.split('•', 1)[1].strip()\n",
    "\n",
    "# Áp dụng hàm cho các dòng có dot_count = 1\n",
    "df.loc[df['dot_count'] == 1, 'property_type'] = df.loc[df['dot_count'] == 1, 'property_type'].apply(clean_property_type_dot1)"
   ]
  },
  {
   "cell_type": "code",
   "execution_count": 21,
   "id": "130c1d7f",
   "metadata": {},
   "outputs": [],
   "source": [
    "def clean_property_type_dot2(text):\n",
    "    # Nếu không có đủ 2 dấu • thì trả về nguyên văn\n",
    "    if text.count('•') < 2:\n",
    "        return text.strip()\n",
    "    # Loại bỏ nội dung từ dấu • thứ 2 trở về trước và xóa khoảng trắng thừa\n",
    "    return text.split('•', 2)[2].strip()\n",
    "\n",
    "# Áp dụng hàm cho các dòng có dot_count = 2\n",
    "df.loc[df['dot_count'] == 2, 'property_type'] = df.loc[df['dot_count'] == 2, 'property_type'].apply(clean_property_type_dot2)"
   ]
  },
  {
   "cell_type": "code",
   "execution_count": 24,
   "id": "727fb5b7",
   "metadata": {},
   "outputs": [
    {
     "name": "stderr",
     "output_type": "stream",
     "text": [
      "C:\\Users\\ASUS\\AppData\\Local\\Temp\\ipykernel_8072\\1942984684.py:1: SettingWithCopyWarning: \n",
      "A value is trying to be set on a copy of a slice from a DataFrame.\n",
      "Try using .loc[row_indexer,col_indexer] = value instead\n",
      "\n",
      "See the caveats in the documentation: https://pandas.pydata.org/pandas-docs/stable/user_guide/indexing.html#returning-a-view-versus-a-copy\n",
      "  df['number_bedroom'] = df['number_bedroom'].fillna(0).astype(int)\n"
     ]
    }
   ],
   "source": [
    "df['number_bedroom'] = df['number_bedroom'].fillna(0).astype(int)"
   ]
  },
  {
   "cell_type": "code",
   "execution_count": 25,
   "id": "7789d16c",
   "metadata": {},
   "outputs": [
    {
     "data": {
      "text/plain": [
       "array([None, 'Tây Bắc', 'Đông Bắc', 'Đông Nam', 'Tây Nam', 'Nam', 'Đông',\n",
       "       'Tây', 'Bắc'], dtype=object)"
      ]
     },
     "execution_count": 25,
     "metadata": {},
     "output_type": "execute_result"
    }
   ],
   "source": [
    "df['house_direction'].unique()"
   ]
  },
  {
   "cell_type": "code",
   "execution_count": 26,
   "id": "746f59b9",
   "metadata": {},
   "outputs": [
    {
     "name": "stderr",
     "output_type": "stream",
     "text": [
      "C:\\Users\\ASUS\\AppData\\Local\\Temp\\ipykernel_8072\\3335720198.py:1: SettingWithCopyWarning: \n",
      "A value is trying to be set on a copy of a slice from a DataFrame.\n",
      "Try using .loc[row_indexer,col_indexer] = value instead\n",
      "\n",
      "See the caveats in the documentation: https://pandas.pydata.org/pandas-docs/stable/user_guide/indexing.html#returning-a-view-versus-a-copy\n",
      "  df['house_direction'] = df['house_direction'].fillna('Chưa xác định').astype(str)\n"
     ]
    }
   ],
   "source": [
    "df['house_direction'] = df['house_direction'].fillna('Chưa xác định').astype(str)"
   ]
  },
  {
   "cell_type": "markdown",
   "id": "89982025",
   "metadata": {},
   "source": [
    "- Sắp xếp lại các cột theo thứ tự mong muốn"
   ]
  },
  {
   "cell_type": "code",
   "execution_count": 27,
   "id": "619b15a9",
   "metadata": {},
   "outputs": [
    {
     "data": {
      "text/html": [
       "<div>\n",
       "<style scoped>\n",
       "    .dataframe tbody tr th:only-of-type {\n",
       "        vertical-align: middle;\n",
       "    }\n",
       "\n",
       "    .dataframe tbody tr th {\n",
       "        vertical-align: top;\n",
       "    }\n",
       "\n",
       "    .dataframe thead th {\n",
       "        text-align: right;\n",
       "    }\n",
       "</style>\n",
       "<table border=\"1\" class=\"dataframe\">\n",
       "  <thead>\n",
       "    <tr style=\"text-align: right;\">\n",
       "      <th></th>\n",
       "      <th>url</th>\n",
       "      <th>property_type</th>\n",
       "      <th>number_bedroom</th>\n",
       "      <th>house_direction</th>\n",
       "      <th>total_price</th>\n",
       "      <th>price_per_m2</th>\n",
       "      <th>area</th>\n",
       "      <th>location</th>\n",
       "      <th>date</th>\n",
       "      <th>dot_count</th>\n",
       "    </tr>\n",
       "  </thead>\n",
       "  <tbody>\n",
       "    <tr>\n",
       "      <th>0</th>\n",
       "      <td>https://www.nhatot.com/mua-ban-nha-dat-quan-ta...</td>\n",
       "      <td>Nhà mặt phố, mặt tiền</td>\n",
       "      <td>8</td>\n",
       "      <td>Chưa xác định</td>\n",
       "      <td>92 tỷ</td>\n",
       "      <td>594 tr/m²</td>\n",
       "      <td>155 m²</td>\n",
       "      <td>Quận Tây Hồ • 6 giờ trước • Tin ưu tiên</td>\n",
       "      <td>2025-07-14</td>\n",
       "      <td>1</td>\n",
       "    </tr>\n",
       "    <tr>\n",
       "      <th>1</th>\n",
       "      <td>https://www.nhatot.com/mua-ban-can-ho-chung-cu...</td>\n",
       "      <td>Chung cư</td>\n",
       "      <td>2</td>\n",
       "      <td>Chưa xác định</td>\n",
       "      <td>5,05 tỷ</td>\n",
       "      <td>66 tr/m²</td>\n",
       "      <td>77 m²</td>\n",
       "      <td>Huyện Gia Lâm • 5 giờ trước • Tin ưu tiên</td>\n",
       "      <td>2025-07-14</td>\n",
       "      <td>1</td>\n",
       "    </tr>\n",
       "    <tr>\n",
       "      <th>2</th>\n",
       "      <td>https://www.nhatot.com/mua-ban-nha-dat-quan-ho...</td>\n",
       "      <td>Nhà ngõ, hẻm</td>\n",
       "      <td>3</td>\n",
       "      <td>Chưa xác định</td>\n",
       "      <td>6,65 tỷ</td>\n",
       "      <td>185 tr/m²</td>\n",
       "      <td>36 m²</td>\n",
       "      <td>Quận Hoàng Mai • 19 giờ trước • Tin ưu tiên</td>\n",
       "      <td>2025-07-14</td>\n",
       "      <td>1</td>\n",
       "    </tr>\n",
       "    <tr>\n",
       "      <th>3</th>\n",
       "      <td>https://www.nhatot.com/mua-ban-nha-dat-quan-lo...</td>\n",
       "      <td>Nhà phố liền kề</td>\n",
       "      <td>4</td>\n",
       "      <td>Tây Bắc</td>\n",
       "      <td>26,5 tỷ</td>\n",
       "      <td>282 tr/m²</td>\n",
       "      <td>94 m²</td>\n",
       "      <td>Quận Long Biên • 2 giờ trước • Tin ưu tiên</td>\n",
       "      <td>2025-07-14</td>\n",
       "      <td>2</td>\n",
       "    </tr>\n",
       "    <tr>\n",
       "      <th>4</th>\n",
       "      <td>https://www.nhatot.com/mua-ban-can-ho-chung-cu...</td>\n",
       "      <td>Chung cư</td>\n",
       "      <td>3</td>\n",
       "      <td>Đông Bắc</td>\n",
       "      <td>100 triệu</td>\n",
       "      <td>2 tr/m²</td>\n",
       "      <td>51 m²</td>\n",
       "      <td>Quận Long Biên • 6 giờ trước • Tin ưu tiên</td>\n",
       "      <td>2025-07-14</td>\n",
       "      <td>2</td>\n",
       "    </tr>\n",
       "  </tbody>\n",
       "</table>\n",
       "</div>"
      ],
      "text/plain": [
       "                                                 url          property_type  \\\n",
       "0  https://www.nhatot.com/mua-ban-nha-dat-quan-ta...  Nhà mặt phố, mặt tiền   \n",
       "1  https://www.nhatot.com/mua-ban-can-ho-chung-cu...               Chung cư   \n",
       "2  https://www.nhatot.com/mua-ban-nha-dat-quan-ho...           Nhà ngõ, hẻm   \n",
       "3  https://www.nhatot.com/mua-ban-nha-dat-quan-lo...        Nhà phố liền kề   \n",
       "4  https://www.nhatot.com/mua-ban-can-ho-chung-cu...               Chung cư   \n",
       "\n",
       "   number_bedroom house_direction total_price price_per_m2    area  \\\n",
       "0               8   Chưa xác định       92 tỷ    594 tr/m²  155 m²   \n",
       "1               2   Chưa xác định     5,05 tỷ     66 tr/m²   77 m²   \n",
       "2               3   Chưa xác định     6,65 tỷ    185 tr/m²   36 m²   \n",
       "3               4         Tây Bắc     26,5 tỷ    282 tr/m²   94 m²   \n",
       "4               3        Đông Bắc   100 triệu      2 tr/m²   51 m²   \n",
       "\n",
       "                                      location        date  dot_count  \n",
       "0      Quận Tây Hồ • 6 giờ trước • Tin ưu tiên  2025-07-14          1  \n",
       "1    Huyện Gia Lâm • 5 giờ trước • Tin ưu tiên  2025-07-14          1  \n",
       "2  Quận Hoàng Mai • 19 giờ trước • Tin ưu tiên  2025-07-14          1  \n",
       "3   Quận Long Biên • 2 giờ trước • Tin ưu tiên  2025-07-14          2  \n",
       "4   Quận Long Biên • 6 giờ trước • Tin ưu tiên  2025-07-14          2  "
      ]
     },
     "execution_count": 27,
     "metadata": {},
     "output_type": "execute_result"
    }
   ],
   "source": [
    "# Đưa cột number_bedroom và house_direction ra sau cột property_type\n",
    "cols = list(df.columns)\n",
    "property_type_idx = cols.index('property_type')\n",
    "# Xóa 2 cột cần di chuyển khỏi danh sách\n",
    "cols.remove('number_bedroom')\n",
    "cols.remove('house_direction')\n",
    "# Chèn lại 2 cột sau property_type\n",
    "cols = cols[:property_type_idx+1] + ['number_bedroom', 'house_direction'] + cols[property_type_idx+1:]\n",
    "df = df[cols]\n",
    "df.head()"
   ]
  },
  {
   "cell_type": "markdown",
   "id": "7fffc51a",
   "metadata": {},
   "source": [
    "### 4.2. Xử lý đơn vị tính cho 2 cột total_price và price_per_m2\n",
    "- Căn cứ vào đơn vị nào chiếm đa số ta sẽ quy tất cả đơn vị về đa số\n",
    "- Nếu có dữ liệu đơn vị tính vô lý không thực tế cũng sẽ loại bỏ"
   ]
  },
  {
   "cell_type": "code",
   "execution_count": 28,
   "id": "14fa792a",
   "metadata": {},
   "outputs": [
    {
     "data": {
      "text/plain": [
       "array(['tỷ', 'triệu', 'đ'], dtype=object)"
      ]
     },
     "execution_count": 28,
     "metadata": {},
     "output_type": "execute_result"
    }
   ],
   "source": [
    "def extract_unit(text):\n",
    "    match = re.match(r'[\\d.,]+\\s*(\\D+)', str(text).strip())\n",
    "    return match.group(1).strip() if match else ''\n",
    "\n",
    "df['unit'] = df['total_price'].apply(extract_unit)\n",
    "df['unit'].unique()\n"
   ]
  },
  {
   "cell_type": "code",
   "execution_count": 29,
   "id": "ce968464",
   "metadata": {},
   "outputs": [
    {
     "data": {
      "text/plain": [
       "unit\n",
       "tỷ       9665\n",
       "triệu     194\n",
       "đ           1\n",
       "Name: count, dtype: int64"
      ]
     },
     "execution_count": 29,
     "metadata": {},
     "output_type": "execute_result"
    }
   ],
   "source": [
    "df['unit'].value_counts()"
   ]
  },
  {
   "cell_type": "code",
   "execution_count": 30,
   "id": "9eb98de3",
   "metadata": {},
   "outputs": [],
   "source": [
    "df = df[df['unit'] != 'đ']"
   ]
  },
  {
   "cell_type": "code",
   "execution_count": 32,
   "id": "69e8d29c",
   "metadata": {},
   "outputs": [],
   "source": [
    "df['total_price'] = df['total_price'].str.replace('tỷ','').str.replace('triệu','')"
   ]
  },
  {
   "cell_type": "code",
   "execution_count": 33,
   "id": "f94da099",
   "metadata": {},
   "outputs": [],
   "source": [
    "def convert_total_price_to_float(text):\n",
    "\t# Đổi dấu ',' thành '.'\n",
    "\ttext = str(text).replace(',', '.')\n",
    "\t# Loại bỏ khoảng trắng thừa\n",
    "\ttext = text.strip()\n",
    "\t# Nếu chuỗi rỗng thì trả về NaN\n",
    "\tif text == '':\n",
    "\t\treturn float('nan')\n",
    "\ttry:\n",
    "\t\treturn float(text)\n",
    "\texcept ValueError:\n",
    "\t\treturn float('nan')\n",
    "\n",
    "df['total_price'] = df['total_price'].apply(convert_total_price_to_float)\n",
    "df['total_price'] = df['total_price'].astype(float)"
   ]
  },
  {
   "cell_type": "code",
   "execution_count": 35,
   "id": "c691b3d4",
   "metadata": {},
   "outputs": [],
   "source": [
    "def convert_trieu_to_ty(row):\n",
    "    if row['unit'] == 'triệu':\n",
    "        return row['total_price'] / 1000\n",
    "    return row['total_price']\n",
    "\n",
    "df['total_price'] = df.apply(convert_trieu_to_ty, axis=1)"
   ]
  },
  {
   "cell_type": "code",
   "execution_count": 37,
   "id": "9377b919",
   "metadata": {},
   "outputs": [],
   "source": [
    "df = df.drop(columns=['unit','dot_count'])"
   ]
  },
  {
   "cell_type": "code",
   "execution_count": 38,
   "id": "b9804cac",
   "metadata": {},
   "outputs": [
    {
     "name": "stdout",
     "output_type": "stream",
     "text": [
      "<class 'pandas.core.frame.DataFrame'>\n",
      "Index: 9859 entries, 0 to 9948\n",
      "Data columns (total 9 columns):\n",
      " #   Column           Non-Null Count  Dtype  \n",
      "---  ------           --------------  -----  \n",
      " 0   url              9859 non-null   object \n",
      " 1   property_type    9859 non-null   object \n",
      " 2   number_bedroom   9859 non-null   int64  \n",
      " 3   house_direction  9859 non-null   object \n",
      " 4   total_price      9859 non-null   float64\n",
      " 5   price_per_m2     9859 non-null   object \n",
      " 6   area             9859 non-null   object \n",
      " 7   location         9859 non-null   object \n",
      " 8   date             9859 non-null   object \n",
      "dtypes: float64(1), int64(1), object(7)\n",
      "memory usage: 770.2+ KB\n"
     ]
    }
   ],
   "source": [
    "df.info()"
   ]
  },
  {
   "cell_type": "code",
   "execution_count": 39,
   "id": "cf64c780",
   "metadata": {},
   "outputs": [
    {
     "data": {
      "text/plain": [
       "array(['594 tr/m²', '66 tr/m²', '185 tr/m²', '282 tr/m²', '2 tr/m²',\n",
       "       '75 tr/m²', '40 tr/m²', '93 tr/m²', '186 tr/m²', '250 tr/m²',\n",
       "       '137 tr/m²', '197 tr/m²', '160 tr/m²', '280 tr/m²', '149 tr/m²',\n",
       "       '233 tr/m²', '241 tr/m²', '221 tr/m²', '50 tr/m²', '49 tr/m²',\n",
       "       '56 tr/m²', '52 tr/m²', '48 tr/m²', '36 tr/m²', '54 tr/m²',\n",
       "       '65 tr/m²', '85 tr/m²', '144 tr/m²', '316 tr/m²', '133 tr/m²',\n",
       "       '272 tr/m²', '73 tr/m²', '61 tr/m²', '240 tr/m²', '216 tr/m²',\n",
       "       '30 tr/m²', '17 tr/m²', '16 tr/m²', '18 tr/m²', '94 tr/m²',\n",
       "       '210 tr/m²', '251 tr/m²', '92 tr/m²', '344 tr/m²', '21 tr/m²',\n",
       "       '205 tr/m²', '291 tr/m²', '110 tr/m²', '202 tr/m²', '14 tr/m²',\n",
       "       '107 tr/m²', '72 tr/m²', '200 tr/m²', '333 tr/m²', '196 tr/m²',\n",
       "       '225 tr/m²', '140 tr/m²', '60 tr/m²', '214 tr/m²', '178 tr/m²',\n",
       "       '150 tr/m²', '188 tr/m²', '143 tr/m²', '58 tr/m²', '165 tr/m²',\n",
       "       '84 tr/m²', '138 tr/m²', '152 tr/m²', '125 tr/m²', '217 tr/m²',\n",
       "       '203 tr/m²', '355 tr/m²', '46 tr/m²', '51 tr/m²', '237 tr/m²',\n",
       "       '343 tr/m²', '313 tr/m²', '260 tr/m²', '189 tr/m²', '242 tr/m²',\n",
       "       '184 tr/m²', '145 tr/m²', '153 tr/m²', '135 tr/m²', '142 tr/m²',\n",
       "       '218 tr/m²', '209 tr/m²', '201 tr/m²', '257 tr/m²', '287 tr/m²',\n",
       "       '409 tr/m²', '228 tr/m²', '246 tr/m²', '384 tr/m²', '308 tr/m²',\n",
       "       '141 tr/m²', '38 tr/m²', '20 tr/m²', '170 tr/m²', '279 tr/m²',\n",
       "       '187 tr/m²', '211 tr/m²', '299 tr/m²', '204 tr/m²', '562 tr/m²',\n",
       "       '147 tr/m²', '192 tr/m²', '162 tr/m²', '45 tr/m²', '166 tr/m²',\n",
       "       '181 tr/m²', '168 tr/m²', '229 tr/m²', '305 tr/m²', '310 tr/m²',\n",
       "       '139 tr/m²', '248 tr/m²', '294 tr/m²', '35 tr/m²', '322 tr/m²',\n",
       "       '37 tr/m²', '57 tr/m²', '82 tr/m²', '32 tr/m²', '55 tr/m²',\n",
       "       '381 tr/m²', '90 tr/m²', '91 tr/m²', '88 tr/m²', '262 tr/m²',\n",
       "       '136 tr/m²', '121 tr/m²', '87 tr/m²', '252 tr/m²', '356 tr/m²',\n",
       "       '747 tr/m²', '224 tr/m²', '239 tr/m²', '288 tr/m²', '183 tr/m²',\n",
       "       '400 tr/m²', '198 tr/m²', '273 tr/m²', '64 tr/m²', '89 tr/m²',\n",
       "       '256 tr/m²', '512 tr/m²', '156 tr/m²', '275 tr/m²', '128 tr/m²',\n",
       "       '113 tr/m²', '461 tr/m²', '120 tr/m²', '243 tr/m²', '115 tr/m²',\n",
       "       '25 tr/m²', '182 tr/m²', '220 tr/m²', '169 tr/m²', '70 tr/m²',\n",
       "       '420 tr/m²', '130 tr/m²', '108 tr/m²', '236 tr/m²', '102 tr/m²',\n",
       "       '148 tr/m²', '81 tr/m²', '163 tr/m²', '157 tr/m²', '172 tr/m²',\n",
       "       '304 tr/m²', '226 tr/m²', '358 tr/m²', '366 tr/m²', '264 tr/m²',\n",
       "       '71 tr/m²', '261 tr/m²', '254 tr/m²', '300 tr/m²', '339 tr/m²',\n",
       "       '223 tr/m²', '195 tr/m²', '175 tr/m²', '100 tr/m²', '41 tr/m²',\n",
       "       '194 tr/m²', '42 tr/m²', '263 tr/m²', '274 tr/m²', '284 tr/m²',\n",
       "       '< 1 tr/m²', '6,3 tr/m²', '190 tr/m²', '47 tr/m²', '161 tr/m²',\n",
       "       '222 tr/m²', '329 tr/m²', '232 tr/m²', '167 tr/m²', '146 tr/m²',\n",
       "       '276 tr/m²', '191 tr/m²', '258 tr/m²', '155 tr/m²', '267 tr/m²',\n",
       "       '227 tr/m²', '245 tr/m²', '176 tr/m²', '323 tr/m²', '134 tr/m²',\n",
       "       '151 tr/m²', '23 tr/m²', '83 tr/m²', '158 tr/m²', '219 tr/m²',\n",
       "       '249 tr/m²', '277 tr/m²', '206 tr/m²', '119 tr/m²', '179 tr/m²',\n",
       "       '43 tr/m²', '292 tr/m²', '472 tr/m²', '244 tr/m²', '199 tr/m²',\n",
       "       '532 tr/m²', '518 tr/m²', '171 tr/m²', '394 tr/m²', '547 tr/m²',\n",
       "       '427 tr/m²', '755 tr/m²', '610 tr/m²', '79 tr/m²', '98 tr/m²',\n",
       "       '86 tr/m²', '104 tr/m²', '76 tr/m²', '63 tr/m²', '430 tr/m²',\n",
       "       '255 tr/m²', '389 tr/m²', '529 tr/m²', '327 tr/m²', '69 tr/m²',\n",
       "       '173 tr/m²', '340 tr/m²', '95 tr/m²', '285 tr/m²', '28 tr/m²',\n",
       "       '328 tr/m²', '372 tr/m²', '324 tr/m²', '213 tr/m²', '231 tr/m²',\n",
       "       '174 tr/m²', '235 tr/m²', '361 tr/m²', '230 tr/m²', '363 tr/m²',\n",
       "       '426 tr/m²', '159 tr/m²', '265 tr/m²', '177 tr/m²', '78 tr/m²',\n",
       "       '207 tr/m²', '319 tr/m²', '598 tr/m²', '193 tr/m²', '39 tr/m²',\n",
       "       '111 tr/m²', '298 tr/m²', '406 tr/m²', '297 tr/m²', '44 tr/m²',\n",
       "       '295 tr/m²', '3,1 tr/m²', '208 tr/m²', '278 tr/m²', '353 tr/m²',\n",
       "       '68 tr/m²', '269 tr/m²', '24 tr/m²', '603 tr/m²', '422 tr/m²',\n",
       "       '306 tr/m²', '612 tr/m²', '259 tr/m²', '548 tr/m²', '103 tr/m²',\n",
       "       '99 tr/m²', '62 tr/m²', '80 tr/m²', '286 tr/m²', '247 tr/m²',\n",
       "       '451 tr/m²', '266 tr/m²', '96 tr/m²', '234 tr/m²', '112 tr/m²',\n",
       "       '132 tr/m²', '77 tr/m²', '320 tr/m²', '281 tr/m²', '180 tr/m²',\n",
       "       '212 tr/m²', '8,9 tr/m²', '330 tr/m²', '59 tr/m²', '15 tr/m²',\n",
       "       '493 tr/m²', '127 tr/m²', '238 tr/m²', '22 tr/m²', '500 tr/m²',\n",
       "       '215 tr/m²', '29 tr/m²', '164 tr/m²', '470 tr/m²', '325 tr/m²',\n",
       "       '318 tr/m²', '397 tr/m²', '31 tr/m²', '383 tr/m²', '6 tr/m²',\n",
       "       '67 tr/m²', '309 tr/m²', '74 tr/m²', '106 tr/m²', '117 tr/m²',\n",
       "       '101 tr/m²', '1,9 tr/m²', '97 tr/m²', '290 tr/m²', '11 tr/m²',\n",
       "       '10 tr/m²', '629 tr/m²', '338 tr/m²', '402 tr/m²', '360 tr/m²',\n",
       "       '7,7 tr/m²', '154 tr/m²', '1,6 tr/m²', '271 tr/m²', '368 tr/m²',\n",
       "       '357 tr/m²', '26 tr/m²', '342 tr/m²', '124 tr/m²', '123 tr/m²',\n",
       "       '131 tr/m²', '438 tr/m²', '311 tr/m²', '351 tr/m²', '352 tr/m²',\n",
       "       '375 tr/m²', '122 tr/m²', '126 tr/m²', '370 tr/m²', '410 tr/m²',\n",
       "       '118 tr/m²', '379 tr/m²', '350 tr/m²', '454 tr/m²', '129 tr/m²',\n",
       "       '307 tr/m²', '34 tr/m²', '289 tr/m²', '114 tr/m²', '12 tr/m²',\n",
       "       '314 tr/m²', '810 tr/m²', '413 tr/m²', '429 tr/m²', '2,1 tr/m²',\n",
       "       '452 tr/m²', '331 tr/m²', '373 tr/m²', '303 tr/m²', '296 tr/m²',\n",
       "       '53 tr/m²', '336 tr/m²', '253 tr/m²', '293 tr/m²', '434 tr/m²',\n",
       "       '367 tr/m²', '116 tr/m²', '659 tr/m²', '418 tr/m²', '556 tr/m²',\n",
       "       '2333 tr/m²', '371 tr/m²', '346 tr/m²', '312 tr/m²', '283 tr/m²',\n",
       "       '105 tr/m²', '341 tr/m²', '557 tr/m²', '268 tr/m²', '365 tr/m²',\n",
       "       '391 tr/m²', '740 tr/m²', '407 tr/m²', '523 tr/m²', '349 tr/m²',\n",
       "       '455 tr/m²', '301 tr/m²', '109 tr/m²', '450 tr/m²', '347 tr/m²',\n",
       "       '485 tr/m²', '468 tr/m²', '524 tr/m²', '317 tr/m²', '678 tr/m²',\n",
       "       '444 tr/m²', '471 tr/m²', '632 tr/m²', '2,6 tr/m²', '3,3 tr/m²',\n",
       "       '270 tr/m²', '462 tr/m²', '419 tr/m²', '411 tr/m²', '750 tr/m²',\n",
       "       '9 tr/m²', '9,3 tr/m²', '13 tr/m²', '6,8 tr/m²', '7,5 tr/m²',\n",
       "       '8,1 tr/m²', '4,5 tr/m²', '7 tr/m²', '1319 tr/m²', '8 tr/m²',\n",
       "       '326 tr/m²', '398 tr/m²', '33 tr/m²', '457 tr/m²', '380 tr/m²',\n",
       "       '506 tr/m²', '27 tr/m²', '3,5 tr/m²', '486 tr/m²', '533 tr/m²',\n",
       "       '396 tr/m²', '880 tr/m²', '446 tr/m²', '502 tr/m²', '362 tr/m²',\n",
       "       '408 tr/m²', '345 tr/m²', '494 tr/m²', '458 tr/m²', '448 tr/m²',\n",
       "       '2381 tr/m²', '19 tr/m²', '387 tr/m²', '460 tr/m²', '348 tr/m²',\n",
       "       '425 tr/m²', '703 tr/m²', '417 tr/m²', '376 tr/m²', '424 tr/m²',\n",
       "       '7,8 tr/m²', '475 tr/m²', '842 tr/m²', '479 tr/m²', '377 tr/m²',\n",
       "       '385 tr/m²', '428 tr/m²', '321 tr/m²', '631 tr/m²', '469 tr/m²',\n",
       "       '714 tr/m²', '354 tr/m²', '467 tr/m²', '553 tr/m²', '334 tr/m²',\n",
       "       '2,9 tr/m²', '433 tr/m²', '7,2 tr/m²', '549 tr/m²', '496 tr/m²',\n",
       "       '1,7 tr/m²', '443 tr/m²', '609 tr/m²', '359 tr/m²', '526 tr/m²',\n",
       "       '364 tr/m²', '830 tr/m²', '1,4 tr/m²', '2,2 tr/m²', '2,4 tr/m²',\n",
       "       '390 tr/m²', '9,2 tr/m²', '4,7 tr/m²', '315 tr/m²', '337 tr/m²',\n",
       "       '520 tr/m²', '404 tr/m²', '483 tr/m²', '619 tr/m²', '3,9 tr/m²',\n",
       "       '466 tr/m²', '369 tr/m²', '568 tr/m²', '4 tr/m²', '6,7 tr/m²',\n",
       "       '613 tr/m²', '474 tr/m²', '395 tr/m²', '537 tr/m²', '621 tr/m²',\n",
       "       '1,1 tr/m²', '487 tr/m²', '9,5 tr/m²', '414 tr/m²', '768 tr/m²',\n",
       "       '302 tr/m²', '332 tr/m²', '441 tr/m²', '782 tr/m²', '700 tr/m²',\n",
       "       '2,5 tr/m²', '403 tr/m²', '392 tr/m²', '9,9 tr/m²', '670 tr/m²',\n",
       "       '4,4 tr/m²', '704 tr/m²', '531 tr/m²', '682 tr/m²', '596 tr/m²',\n",
       "       '6,5 tr/m²', '558 tr/m²', '539 tr/m²', '618 tr/m²', '442 tr/m²',\n",
       "       '445 tr/m²', '421 tr/m²', '4413 tr/m²', '386 tr/m²', '8,5 tr/m²',\n",
       "       '399 tr/m²', '5 tr/m²', '1027 tr/m²', '825 tr/m²', '374 tr/m²',\n",
       "       '673 tr/m²', '484 tr/m²', '382 tr/m²', '550 tr/m²', '565 tr/m²',\n",
       "       '435 tr/m²', '800 tr/m²', '440 tr/m²', '561 tr/m²', '722 tr/m²',\n",
       "       '517 tr/m²', '575 tr/m²', '488 tr/m²', '423 tr/m²', '997 tr/m²',\n",
       "       '708 tr/m²', '685 tr/m²', '611 tr/m²', '551 tr/m²', '622 tr/m²',\n",
       "       '335 tr/m²', '393 tr/m²', '510 tr/m²', '480 tr/m²', '388 tr/m²',\n",
       "       '525 tr/m²', '5,6 tr/m²', '6,6 tr/m²', '491 tr/m²', '654 tr/m²',\n",
       "       '3 tr/m²', '6,2 tr/m²', '477 tr/m²', '476 tr/m²', '3,4 tr/m²'],\n",
       "      dtype=object)"
      ]
     },
     "execution_count": 39,
     "metadata": {},
     "output_type": "execute_result"
    }
   ],
   "source": [
    "df['price_per_m2'].unique()"
   ]
  },
  {
   "cell_type": "code",
   "execution_count": 40,
   "id": "2e5915c0",
   "metadata": {},
   "outputs": [
    {
     "data": {
      "text/plain": [
       "array(['tr/m²', '<'], dtype=object)"
      ]
     },
     "execution_count": 40,
     "metadata": {},
     "output_type": "execute_result"
    }
   ],
   "source": [
    "df['unit'] = df['price_per_m2'].apply(lambda x: re.findall(r'[^\\d.,\\s]+', x)[0] if pd.notnull(x) and re.findall(r'[^\\d.,\\s]+', x) else '')\n",
    "df['unit'].unique()"
   ]
  },
  {
   "cell_type": "code",
   "execution_count": 41,
   "id": "4568d041",
   "metadata": {},
   "outputs": [
    {
     "data": {
      "text/plain": [
       "unit\n",
       "tr/m²    9844\n",
       "<          15\n",
       "Name: count, dtype: int64"
      ]
     },
     "execution_count": 41,
     "metadata": {},
     "output_type": "execute_result"
    }
   ],
   "source": [
    "df['unit'].value_counts()"
   ]
  },
  {
   "cell_type": "code",
   "execution_count": 42,
   "id": "eb2875d9",
   "metadata": {},
   "outputs": [
    {
     "data": {
      "text/html": [
       "<div>\n",
       "<style scoped>\n",
       "    .dataframe tbody tr th:only-of-type {\n",
       "        vertical-align: middle;\n",
       "    }\n",
       "\n",
       "    .dataframe tbody tr th {\n",
       "        vertical-align: top;\n",
       "    }\n",
       "\n",
       "    .dataframe thead th {\n",
       "        text-align: right;\n",
       "    }\n",
       "</style>\n",
       "<table border=\"1\" class=\"dataframe\">\n",
       "  <thead>\n",
       "    <tr style=\"text-align: right;\">\n",
       "      <th></th>\n",
       "      <th>url</th>\n",
       "      <th>property_type</th>\n",
       "      <th>number_bedroom</th>\n",
       "      <th>house_direction</th>\n",
       "      <th>total_price</th>\n",
       "      <th>price_per_m2</th>\n",
       "      <th>area</th>\n",
       "      <th>location</th>\n",
       "      <th>date</th>\n",
       "      <th>unit</th>\n",
       "    </tr>\n",
       "  </thead>\n",
       "  <tbody>\n",
       "    <tr>\n",
       "      <th>302</th>\n",
       "      <td>https://www.nhatot.com/mua-ban-can-ho-chung-cu...</td>\n",
       "      <td>Căn hộ dịch vụ, mini</td>\n",
       "      <td>5</td>\n",
       "      <td>Chưa xác định</td>\n",
       "      <td>0.005700</td>\n",
       "      <td>&lt; 1 tr/m²</td>\n",
       "      <td>30 m²</td>\n",
       "      <td>Quận Nam Từ Liêm • 5 giờ trước</td>\n",
       "      <td>2025-07-14</td>\n",
       "      <td>&lt;</td>\n",
       "    </tr>\n",
       "    <tr>\n",
       "      <th>1971</th>\n",
       "      <td>https://www.nhatot.com/mua-ban-can-ho-chung-cu...</td>\n",
       "      <td>Chung cư</td>\n",
       "      <td>2</td>\n",
       "      <td>Chưa xác định</td>\n",
       "      <td>0.004580</td>\n",
       "      <td>&lt; 1 tr/m²</td>\n",
       "      <td>68 m²</td>\n",
       "      <td>Quận Hoàng Mai • 2 ngày trước</td>\n",
       "      <td>2025-07-14</td>\n",
       "      <td>&lt;</td>\n",
       "    </tr>\n",
       "    <tr>\n",
       "      <th>2849</th>\n",
       "      <td>https://www.nhatot.com/mua-ban-can-ho-chung-cu...</td>\n",
       "      <td>Chung cư</td>\n",
       "      <td>2</td>\n",
       "      <td>Nam</td>\n",
       "      <td>0.004768</td>\n",
       "      <td>&lt; 1 tr/m²</td>\n",
       "      <td>66 m²</td>\n",
       "      <td>Huyện Gia Lâm • 4 ngày trước</td>\n",
       "      <td>2025-07-14</td>\n",
       "      <td>&lt;</td>\n",
       "    </tr>\n",
       "    <tr>\n",
       "      <th>3181</th>\n",
       "      <td>https://www.nhatot.com/mua-ban-can-ho-chung-cu...</td>\n",
       "      <td>Chung cư</td>\n",
       "      <td>3</td>\n",
       "      <td>Chưa xác định</td>\n",
       "      <td>0.012500</td>\n",
       "      <td>&lt; 1 tr/m²</td>\n",
       "      <td>120 m²</td>\n",
       "      <td>Quận Hai Bà Trưng • 4 ngày trước</td>\n",
       "      <td>2025-07-14</td>\n",
       "      <td>&lt;</td>\n",
       "    </tr>\n",
       "    <tr>\n",
       "      <th>3348</th>\n",
       "      <td>https://www.nhatot.com/mua-ban-can-ho-chung-cu...</td>\n",
       "      <td>Chung cư</td>\n",
       "      <td>2</td>\n",
       "      <td>Chưa xác định</td>\n",
       "      <td>0.003600</td>\n",
       "      <td>&lt; 1 tr/m²</td>\n",
       "      <td>68 m²</td>\n",
       "      <td>Huyện Đông Anh • 4 ngày trước</td>\n",
       "      <td>2025-07-14</td>\n",
       "      <td>&lt;</td>\n",
       "    </tr>\n",
       "    <tr>\n",
       "      <th>3764</th>\n",
       "      <td>https://www.nhatot.com/mua-ban-can-ho-chung-cu...</td>\n",
       "      <td>Chung cư</td>\n",
       "      <td>3</td>\n",
       "      <td>Tây Nam</td>\n",
       "      <td>0.011000</td>\n",
       "      <td>&lt; 1 tr/m²</td>\n",
       "      <td>147 m²</td>\n",
       "      <td>Quận Cầu Giấy • 5 ngày trước</td>\n",
       "      <td>2025-07-14</td>\n",
       "      <td>&lt;</td>\n",
       "    </tr>\n",
       "    <tr>\n",
       "      <th>4742</th>\n",
       "      <td>https://www.nhatot.com/mua-ban-can-ho-chung-cu...</td>\n",
       "      <td>Chung cư</td>\n",
       "      <td>2</td>\n",
       "      <td>Chưa xác định</td>\n",
       "      <td>0.003200</td>\n",
       "      <td>&lt; 1 tr/m²</td>\n",
       "      <td>45 m²</td>\n",
       "      <td>Quận Nam Từ Liêm • 6 ngày trước</td>\n",
       "      <td>2025-07-14</td>\n",
       "      <td>&lt;</td>\n",
       "    </tr>\n",
       "    <tr>\n",
       "      <th>5453</th>\n",
       "      <td>https://www.nhatot.com/mua-ban-can-ho-chung-cu...</td>\n",
       "      <td>Chung cư</td>\n",
       "      <td>3</td>\n",
       "      <td>Chưa xác định</td>\n",
       "      <td>0.040000</td>\n",
       "      <td>&lt; 1 tr/m²</td>\n",
       "      <td>108 m²</td>\n",
       "      <td>Quận Hà Đông • 1 tuần trước</td>\n",
       "      <td>2025-07-14</td>\n",
       "      <td>&lt;</td>\n",
       "    </tr>\n",
       "    <tr>\n",
       "      <th>5645</th>\n",
       "      <td>https://www.nhatot.com/mua-ban-can-ho-chung-cu...</td>\n",
       "      <td>Chung cư</td>\n",
       "      <td>3</td>\n",
       "      <td>Bắc</td>\n",
       "      <td>0.007100</td>\n",
       "      <td>&lt; 1 tr/m²</td>\n",
       "      <td>93 m²</td>\n",
       "      <td>Quận Hai Bà Trưng • 1 tuần trước</td>\n",
       "      <td>2025-07-14</td>\n",
       "      <td>&lt;</td>\n",
       "    </tr>\n",
       "    <tr>\n",
       "      <th>6459</th>\n",
       "      <td>https://www.nhatot.com/mua-ban-can-ho-chung-cu...</td>\n",
       "      <td>Chung cư</td>\n",
       "      <td>2</td>\n",
       "      <td>Chưa xác định</td>\n",
       "      <td>0.003700</td>\n",
       "      <td>&lt; 1 tr/m²</td>\n",
       "      <td>60 m²</td>\n",
       "      <td>Quận Bắc Từ Liêm • 1 tuần trước</td>\n",
       "      <td>2025-07-14</td>\n",
       "      <td>&lt;</td>\n",
       "    </tr>\n",
       "    <tr>\n",
       "      <th>7855</th>\n",
       "      <td>https://www.nhatot.com/mua-ban-can-ho-chung-cu...</td>\n",
       "      <td>Căn hộ dịch vụ, mini</td>\n",
       "      <td>2</td>\n",
       "      <td>Chưa xác định</td>\n",
       "      <td>0.009000</td>\n",
       "      <td>&lt; 1 tr/m²</td>\n",
       "      <td>50 m²</td>\n",
       "      <td>Quận Hai Bà Trưng • 2 tuần trước</td>\n",
       "      <td>2025-07-14</td>\n",
       "      <td>&lt;</td>\n",
       "    </tr>\n",
       "    <tr>\n",
       "      <th>9641</th>\n",
       "      <td>https://www.nhatot.com/mua-ban-dat-huyen-thanh...</td>\n",
       "      <td>Đất nông nghiệp</td>\n",
       "      <td>0</td>\n",
       "      <td>Chưa xác định</td>\n",
       "      <td>0.520000</td>\n",
       "      <td>&lt; 1 tr/m²</td>\n",
       "      <td>10000 m²</td>\n",
       "      <td>Huyện Thanh Oai • 3 tuần trước</td>\n",
       "      <td>2025-07-14</td>\n",
       "      <td>&lt;</td>\n",
       "    </tr>\n",
       "    <tr>\n",
       "      <th>9704</th>\n",
       "      <td>https://www.nhatot.com/mua-ban-can-ho-chung-cu...</td>\n",
       "      <td>Chung cư</td>\n",
       "      <td>2</td>\n",
       "      <td>Chưa xác định</td>\n",
       "      <td>0.035000</td>\n",
       "      <td>&lt; 1 tr/m²</td>\n",
       "      <td>64 m²</td>\n",
       "      <td>Huyện Thanh Trì • 3 tuần trước</td>\n",
       "      <td>2025-07-14</td>\n",
       "      <td>&lt;</td>\n",
       "    </tr>\n",
       "    <tr>\n",
       "      <th>9882</th>\n",
       "      <td>https://www.nhatot.com/mua-ban-can-ho-chung-cu...</td>\n",
       "      <td>Chung cư</td>\n",
       "      <td>2</td>\n",
       "      <td>Chưa xác định</td>\n",
       "      <td>0.077000</td>\n",
       "      <td>&lt; 1 tr/m²</td>\n",
       "      <td>565 m²</td>\n",
       "      <td>Quận Nam Từ Liêm • 4 tuần trước</td>\n",
       "      <td>2025-07-14</td>\n",
       "      <td>&lt;</td>\n",
       "    </tr>\n",
       "    <tr>\n",
       "      <th>9913</th>\n",
       "      <td>https://www.nhatot.com/mua-ban-can-ho-chung-cu...</td>\n",
       "      <td>Chung cư</td>\n",
       "      <td>2</td>\n",
       "      <td>Đông Bắc</td>\n",
       "      <td>0.040000</td>\n",
       "      <td>&lt; 1 tr/m²</td>\n",
       "      <td>79 m²</td>\n",
       "      <td>Huyện Thanh Trì • 4 tuần trước</td>\n",
       "      <td>2025-07-14</td>\n",
       "      <td>&lt;</td>\n",
       "    </tr>\n",
       "  </tbody>\n",
       "</table>\n",
       "</div>"
      ],
      "text/plain": [
       "                                                    url         property_type  \\\n",
       "302   https://www.nhatot.com/mua-ban-can-ho-chung-cu...  Căn hộ dịch vụ, mini   \n",
       "1971  https://www.nhatot.com/mua-ban-can-ho-chung-cu...              Chung cư   \n",
       "2849  https://www.nhatot.com/mua-ban-can-ho-chung-cu...              Chung cư   \n",
       "3181  https://www.nhatot.com/mua-ban-can-ho-chung-cu...              Chung cư   \n",
       "3348  https://www.nhatot.com/mua-ban-can-ho-chung-cu...              Chung cư   \n",
       "3764  https://www.nhatot.com/mua-ban-can-ho-chung-cu...              Chung cư   \n",
       "4742  https://www.nhatot.com/mua-ban-can-ho-chung-cu...              Chung cư   \n",
       "5453  https://www.nhatot.com/mua-ban-can-ho-chung-cu...              Chung cư   \n",
       "5645  https://www.nhatot.com/mua-ban-can-ho-chung-cu...              Chung cư   \n",
       "6459  https://www.nhatot.com/mua-ban-can-ho-chung-cu...              Chung cư   \n",
       "7855  https://www.nhatot.com/mua-ban-can-ho-chung-cu...  Căn hộ dịch vụ, mini   \n",
       "9641  https://www.nhatot.com/mua-ban-dat-huyen-thanh...       Đất nông nghiệp   \n",
       "9704  https://www.nhatot.com/mua-ban-can-ho-chung-cu...              Chung cư   \n",
       "9882  https://www.nhatot.com/mua-ban-can-ho-chung-cu...              Chung cư   \n",
       "9913  https://www.nhatot.com/mua-ban-can-ho-chung-cu...              Chung cư   \n",
       "\n",
       "      number_bedroom house_direction  total_price price_per_m2      area  \\\n",
       "302                5   Chưa xác định     0.005700    < 1 tr/m²     30 m²   \n",
       "1971               2   Chưa xác định     0.004580    < 1 tr/m²     68 m²   \n",
       "2849               2             Nam     0.004768    < 1 tr/m²     66 m²   \n",
       "3181               3   Chưa xác định     0.012500    < 1 tr/m²    120 m²   \n",
       "3348               2   Chưa xác định     0.003600    < 1 tr/m²     68 m²   \n",
       "3764               3         Tây Nam     0.011000    < 1 tr/m²    147 m²   \n",
       "4742               2   Chưa xác định     0.003200    < 1 tr/m²     45 m²   \n",
       "5453               3   Chưa xác định     0.040000    < 1 tr/m²    108 m²   \n",
       "5645               3             Bắc     0.007100    < 1 tr/m²     93 m²   \n",
       "6459               2   Chưa xác định     0.003700    < 1 tr/m²     60 m²   \n",
       "7855               2   Chưa xác định     0.009000    < 1 tr/m²     50 m²   \n",
       "9641               0   Chưa xác định     0.520000    < 1 tr/m²  10000 m²   \n",
       "9704               2   Chưa xác định     0.035000    < 1 tr/m²     64 m²   \n",
       "9882               2   Chưa xác định     0.077000    < 1 tr/m²    565 m²   \n",
       "9913               2        Đông Bắc     0.040000    < 1 tr/m²     79 m²   \n",
       "\n",
       "                              location        date unit  \n",
       "302     Quận Nam Từ Liêm • 5 giờ trước  2025-07-14    <  \n",
       "1971     Quận Hoàng Mai • 2 ngày trước  2025-07-14    <  \n",
       "2849      Huyện Gia Lâm • 4 ngày trước  2025-07-14    <  \n",
       "3181  Quận Hai Bà Trưng • 4 ngày trước  2025-07-14    <  \n",
       "3348     Huyện Đông Anh • 4 ngày trước  2025-07-14    <  \n",
       "3764      Quận Cầu Giấy • 5 ngày trước  2025-07-14    <  \n",
       "4742   Quận Nam Từ Liêm • 6 ngày trước  2025-07-14    <  \n",
       "5453       Quận Hà Đông • 1 tuần trước  2025-07-14    <  \n",
       "5645  Quận Hai Bà Trưng • 1 tuần trước  2025-07-14    <  \n",
       "6459   Quận Bắc Từ Liêm • 1 tuần trước  2025-07-14    <  \n",
       "7855  Quận Hai Bà Trưng • 2 tuần trước  2025-07-14    <  \n",
       "9641    Huyện Thanh Oai • 3 tuần trước  2025-07-14    <  \n",
       "9704    Huyện Thanh Trì • 3 tuần trước  2025-07-14    <  \n",
       "9882   Quận Nam Từ Liêm • 4 tuần trước  2025-07-14    <  \n",
       "9913    Huyện Thanh Trì • 4 tuần trước  2025-07-14    <  "
      ]
     },
     "execution_count": 42,
     "metadata": {},
     "output_type": "execute_result"
    }
   ],
   "source": [
    "df[df['unit'] == '<']\n"
   ]
  },
  {
   "cell_type": "code",
   "execution_count": 43,
   "id": "04700cbb",
   "metadata": {},
   "outputs": [],
   "source": [
    "df = df[df['unit'] != '<']"
   ]
  },
  {
   "cell_type": "code",
   "execution_count": 44,
   "id": "0dc1345a",
   "metadata": {},
   "outputs": [],
   "source": [
    "df['price_per_m2'] = df['price_per_m2'].str.replace('tr/m²','')"
   ]
  },
  {
   "cell_type": "code",
   "execution_count": 45,
   "id": "dd22aea2",
   "metadata": {},
   "outputs": [],
   "source": [
    "df['price_per_m2'] = df['price_per_m2'].apply(convert_total_price_to_float)\n",
    "df['price_per_m2'] = df['price_per_m2'].astype(float)"
   ]
  },
  {
   "cell_type": "code",
   "execution_count": 46,
   "id": "cb86d7be",
   "metadata": {},
   "outputs": [],
   "source": [
    "df = df.drop(columns=['unit'])"
   ]
  },
  {
   "cell_type": "markdown",
   "id": "cf2c6f1e",
   "metadata": {},
   "source": [
    "### 4.3. Xử lý cột area và location\n",
    "- Cột area(diện tích) sẽ được loại bỏ đơn vị đo và chuyển về dạng float để phù hợp cho việc trực quan hóa dữ liệu\n",
    "- Cột location được loại bỏ các thông tin không cần thiết như tiền tố quận, huyện, thị xã và các thông tin liên quan đến bài đăng"
   ]
  },
  {
   "cell_type": "code",
   "execution_count": 47,
   "id": "a435e1ce",
   "metadata": {},
   "outputs": [
    {
     "data": {
      "text/plain": [
       "array(['m²'], dtype=object)"
      ]
     },
     "execution_count": 47,
     "metadata": {},
     "output_type": "execute_result"
    }
   ],
   "source": [
    "df['unit'] = df['area'].apply(lambda x: re.findall(r'[^\\d.,\\s]+', str(x))[0] if pd.notnull(x) and re.findall(r'[^\\d.,\\s]+', str(x)) else '')\n",
    "df['unit'].unique()"
   ]
  },
  {
   "cell_type": "code",
   "execution_count": 48,
   "id": "da726dc5",
   "metadata": {},
   "outputs": [],
   "source": [
    "df['area'] = df['area'].str.replace('m²','').str.replace(',','.')\n",
    "df['area'] = df['area'].astype(float)"
   ]
  },
  {
   "cell_type": "code",
   "execution_count": 49,
   "id": "aa18d6da",
   "metadata": {},
   "outputs": [
    {
     "data": {
      "text/plain": [
       "array(['Quận Tây Hồ', 'Huyện Gia Lâm', 'Quận Hoàng Mai', 'Quận Long Biên',\n",
       "       'Quận Cầu Giấy', 'Huyện Thanh Trì', 'Huyện Đông Anh',\n",
       "       'Quận Thanh Xuân', 'Quận Đống Đa', 'Quận Bắc Từ Liêm',\n",
       "       'Huyện Đan Phượng', 'Quận Hà Đông', 'Huyện Mê Linh',\n",
       "       'Quận Hai Bà Trưng', 'Huyện Chương Mỹ', 'Huyện Sóc Sơn',\n",
       "       'Quận Nam Từ Liêm', 'Quận Ba Đình', 'Huyện Hoài Đức',\n",
       "       'Huyện Phú Xuyên', 'Huyện Thường Tín', 'Huyện Thạch Thất',\n",
       "       'Huyện Quốc Oai', 'Huyện Mỹ Đức', 'Thị xã Sơn Tây',\n",
       "       'Quận Hoàn Kiếm', 'Huyện Thanh Oai', 'Huyện Ba Vì',\n",
       "       'Huyện Phúc Thọ', 'Huyện Ứng Hòa'], dtype=object)"
      ]
     },
     "execution_count": 49,
     "metadata": {},
     "output_type": "execute_result"
    }
   ],
   "source": [
    "df['location'] = df['location'].str.split('•').str[0].str.strip()\n",
    "df['location'].unique()"
   ]
  },
  {
   "cell_type": "code",
   "execution_count": 50,
   "id": "1283cc5c",
   "metadata": {},
   "outputs": [
    {
     "data": {
      "text/html": [
       "<div>\n",
       "<style scoped>\n",
       "    .dataframe tbody tr th:only-of-type {\n",
       "        vertical-align: middle;\n",
       "    }\n",
       "\n",
       "    .dataframe tbody tr th {\n",
       "        vertical-align: top;\n",
       "    }\n",
       "\n",
       "    .dataframe thead th {\n",
       "        text-align: right;\n",
       "    }\n",
       "</style>\n",
       "<table border=\"1\" class=\"dataframe\">\n",
       "  <thead>\n",
       "    <tr style=\"text-align: right;\">\n",
       "      <th></th>\n",
       "      <th>url</th>\n",
       "      <th>property_type</th>\n",
       "      <th>number_bedroom</th>\n",
       "      <th>house_direction</th>\n",
       "      <th>total_price</th>\n",
       "      <th>price_per_m2</th>\n",
       "      <th>area</th>\n",
       "      <th>location</th>\n",
       "      <th>date</th>\n",
       "      <th>unit</th>\n",
       "    </tr>\n",
       "  </thead>\n",
       "  <tbody>\n",
       "    <tr>\n",
       "      <th>0</th>\n",
       "      <td>https://www.nhatot.com/mua-ban-nha-dat-quan-ta...</td>\n",
       "      <td>Nhà mặt phố, mặt tiền</td>\n",
       "      <td>8</td>\n",
       "      <td>Chưa xác định</td>\n",
       "      <td>92.00</td>\n",
       "      <td>594.0</td>\n",
       "      <td>155.0</td>\n",
       "      <td>Tây Hồ</td>\n",
       "      <td>2025-07-14</td>\n",
       "      <td>m²</td>\n",
       "    </tr>\n",
       "    <tr>\n",
       "      <th>1</th>\n",
       "      <td>https://www.nhatot.com/mua-ban-can-ho-chung-cu...</td>\n",
       "      <td>Chung cư</td>\n",
       "      <td>2</td>\n",
       "      <td>Chưa xác định</td>\n",
       "      <td>5.05</td>\n",
       "      <td>66.0</td>\n",
       "      <td>77.0</td>\n",
       "      <td>Gia Lâm</td>\n",
       "      <td>2025-07-14</td>\n",
       "      <td>m²</td>\n",
       "    </tr>\n",
       "    <tr>\n",
       "      <th>2</th>\n",
       "      <td>https://www.nhatot.com/mua-ban-nha-dat-quan-ho...</td>\n",
       "      <td>Nhà ngõ, hẻm</td>\n",
       "      <td>3</td>\n",
       "      <td>Chưa xác định</td>\n",
       "      <td>6.65</td>\n",
       "      <td>185.0</td>\n",
       "      <td>36.0</td>\n",
       "      <td>Hoàng Mai</td>\n",
       "      <td>2025-07-14</td>\n",
       "      <td>m²</td>\n",
       "    </tr>\n",
       "    <tr>\n",
       "      <th>3</th>\n",
       "      <td>https://www.nhatot.com/mua-ban-nha-dat-quan-lo...</td>\n",
       "      <td>Nhà phố liền kề</td>\n",
       "      <td>4</td>\n",
       "      <td>Tây Bắc</td>\n",
       "      <td>26.50</td>\n",
       "      <td>282.0</td>\n",
       "      <td>94.0</td>\n",
       "      <td>Long Biên</td>\n",
       "      <td>2025-07-14</td>\n",
       "      <td>m²</td>\n",
       "    </tr>\n",
       "    <tr>\n",
       "      <th>4</th>\n",
       "      <td>https://www.nhatot.com/mua-ban-can-ho-chung-cu...</td>\n",
       "      <td>Chung cư</td>\n",
       "      <td>3</td>\n",
       "      <td>Đông Bắc</td>\n",
       "      <td>0.10</td>\n",
       "      <td>2.0</td>\n",
       "      <td>51.0</td>\n",
       "      <td>Long Biên</td>\n",
       "      <td>2025-07-14</td>\n",
       "      <td>m²</td>\n",
       "    </tr>\n",
       "  </tbody>\n",
       "</table>\n",
       "</div>"
      ],
      "text/plain": [
       "                                                 url          property_type  \\\n",
       "0  https://www.nhatot.com/mua-ban-nha-dat-quan-ta...  Nhà mặt phố, mặt tiền   \n",
       "1  https://www.nhatot.com/mua-ban-can-ho-chung-cu...               Chung cư   \n",
       "2  https://www.nhatot.com/mua-ban-nha-dat-quan-ho...           Nhà ngõ, hẻm   \n",
       "3  https://www.nhatot.com/mua-ban-nha-dat-quan-lo...        Nhà phố liền kề   \n",
       "4  https://www.nhatot.com/mua-ban-can-ho-chung-cu...               Chung cư   \n",
       "\n",
       "   number_bedroom house_direction  total_price  price_per_m2   area  \\\n",
       "0               8   Chưa xác định        92.00         594.0  155.0   \n",
       "1               2   Chưa xác định         5.05          66.0   77.0   \n",
       "2               3   Chưa xác định         6.65         185.0   36.0   \n",
       "3               4         Tây Bắc        26.50         282.0   94.0   \n",
       "4               3        Đông Bắc         0.10           2.0   51.0   \n",
       "\n",
       "    location        date unit  \n",
       "0     Tây Hồ  2025-07-14   m²  \n",
       "1    Gia Lâm  2025-07-14   m²  \n",
       "2  Hoàng Mai  2025-07-14   m²  \n",
       "3  Long Biên  2025-07-14   m²  \n",
       "4  Long Biên  2025-07-14   m²  "
      ]
     },
     "execution_count": 50,
     "metadata": {},
     "output_type": "execute_result"
    }
   ],
   "source": [
    "df['location'] = df['location'].str.replace('Quận','').str.replace('Huyện','').str.replace('Thị xã','').str.strip()\n",
    "df.head()"
   ]
  },
  {
   "cell_type": "code",
   "execution_count": 51,
   "id": "f2118236",
   "metadata": {},
   "outputs": [
    {
     "name": "stdout",
     "output_type": "stream",
     "text": [
      "<class 'pandas.core.frame.DataFrame'>\n",
      "Index: 9844 entries, 0 to 9948\n",
      "Data columns (total 10 columns):\n",
      " #   Column           Non-Null Count  Dtype  \n",
      "---  ------           --------------  -----  \n",
      " 0   url              9844 non-null   object \n",
      " 1   property_type    9844 non-null   object \n",
      " 2   number_bedroom   9844 non-null   int64  \n",
      " 3   house_direction  9844 non-null   object \n",
      " 4   total_price      9844 non-null   float64\n",
      " 5   price_per_m2     9844 non-null   float64\n",
      " 6   area             9844 non-null   float64\n",
      " 7   location         9844 non-null   object \n",
      " 8   date             9844 non-null   object \n",
      " 9   unit             9844 non-null   object \n",
      "dtypes: float64(3), int64(1), object(6)\n",
      "memory usage: 846.0+ KB\n"
     ]
    }
   ],
   "source": [
    "df.info()"
   ]
  },
  {
   "cell_type": "code",
   "execution_count": 52,
   "id": "4ae36129",
   "metadata": {},
   "outputs": [],
   "source": [
    "df = df.drop(columns=['unit'])"
   ]
  },
  {
   "cell_type": "markdown",
   "id": "fbf40e2a",
   "metadata": {},
   "source": [
    "## 5. Đổi tên cột và lưu trữ dữ liệu"
   ]
  },
  {
   "cell_type": "code",
   "execution_count": 53,
   "id": "53e9b4c2",
   "metadata": {},
   "outputs": [
    {
     "data": {
      "text/html": [
       "<div>\n",
       "<style scoped>\n",
       "    .dataframe tbody tr th:only-of-type {\n",
       "        vertical-align: middle;\n",
       "    }\n",
       "\n",
       "    .dataframe tbody tr th {\n",
       "        vertical-align: top;\n",
       "    }\n",
       "\n",
       "    .dataframe thead th {\n",
       "        text-align: right;\n",
       "    }\n",
       "</style>\n",
       "<table border=\"1\" class=\"dataframe\">\n",
       "  <thead>\n",
       "    <tr style=\"text-align: right;\">\n",
       "      <th></th>\n",
       "      <th>url</th>\n",
       "      <th>property_type</th>\n",
       "      <th>number_bedroom</th>\n",
       "      <th>house_direction</th>\n",
       "      <th>total_price</th>\n",
       "      <th>price_per_m2</th>\n",
       "      <th>area</th>\n",
       "      <th>location</th>\n",
       "      <th>date</th>\n",
       "    </tr>\n",
       "  </thead>\n",
       "  <tbody>\n",
       "    <tr>\n",
       "      <th>0</th>\n",
       "      <td>https://www.nhatot.com/mua-ban-nha-dat-quan-ta...</td>\n",
       "      <td>Nhà mặt phố, mặt tiền</td>\n",
       "      <td>8</td>\n",
       "      <td>Chưa xác định</td>\n",
       "      <td>92.00</td>\n",
       "      <td>594.0</td>\n",
       "      <td>155.0</td>\n",
       "      <td>Tây Hồ</td>\n",
       "      <td>2025-07-14</td>\n",
       "    </tr>\n",
       "    <tr>\n",
       "      <th>1</th>\n",
       "      <td>https://www.nhatot.com/mua-ban-can-ho-chung-cu...</td>\n",
       "      <td>Chung cư</td>\n",
       "      <td>2</td>\n",
       "      <td>Chưa xác định</td>\n",
       "      <td>5.05</td>\n",
       "      <td>66.0</td>\n",
       "      <td>77.0</td>\n",
       "      <td>Gia Lâm</td>\n",
       "      <td>2025-07-14</td>\n",
       "    </tr>\n",
       "    <tr>\n",
       "      <th>2</th>\n",
       "      <td>https://www.nhatot.com/mua-ban-nha-dat-quan-ho...</td>\n",
       "      <td>Nhà ngõ, hẻm</td>\n",
       "      <td>3</td>\n",
       "      <td>Chưa xác định</td>\n",
       "      <td>6.65</td>\n",
       "      <td>185.0</td>\n",
       "      <td>36.0</td>\n",
       "      <td>Hoàng Mai</td>\n",
       "      <td>2025-07-14</td>\n",
       "    </tr>\n",
       "    <tr>\n",
       "      <th>3</th>\n",
       "      <td>https://www.nhatot.com/mua-ban-nha-dat-quan-lo...</td>\n",
       "      <td>Nhà phố liền kề</td>\n",
       "      <td>4</td>\n",
       "      <td>Tây Bắc</td>\n",
       "      <td>26.50</td>\n",
       "      <td>282.0</td>\n",
       "      <td>94.0</td>\n",
       "      <td>Long Biên</td>\n",
       "      <td>2025-07-14</td>\n",
       "    </tr>\n",
       "    <tr>\n",
       "      <th>4</th>\n",
       "      <td>https://www.nhatot.com/mua-ban-can-ho-chung-cu...</td>\n",
       "      <td>Chung cư</td>\n",
       "      <td>3</td>\n",
       "      <td>Đông Bắc</td>\n",
       "      <td>0.10</td>\n",
       "      <td>2.0</td>\n",
       "      <td>51.0</td>\n",
       "      <td>Long Biên</td>\n",
       "      <td>2025-07-14</td>\n",
       "    </tr>\n",
       "  </tbody>\n",
       "</table>\n",
       "</div>"
      ],
      "text/plain": [
       "                                                 url          property_type  \\\n",
       "0  https://www.nhatot.com/mua-ban-nha-dat-quan-ta...  Nhà mặt phố, mặt tiền   \n",
       "1  https://www.nhatot.com/mua-ban-can-ho-chung-cu...               Chung cư   \n",
       "2  https://www.nhatot.com/mua-ban-nha-dat-quan-ho...           Nhà ngõ, hẻm   \n",
       "3  https://www.nhatot.com/mua-ban-nha-dat-quan-lo...        Nhà phố liền kề   \n",
       "4  https://www.nhatot.com/mua-ban-can-ho-chung-cu...               Chung cư   \n",
       "\n",
       "   number_bedroom house_direction  total_price  price_per_m2   area  \\\n",
       "0               8   Chưa xác định        92.00         594.0  155.0   \n",
       "1               2   Chưa xác định         5.05          66.0   77.0   \n",
       "2               3   Chưa xác định         6.65         185.0   36.0   \n",
       "3               4         Tây Bắc        26.50         282.0   94.0   \n",
       "4               3        Đông Bắc         0.10           2.0   51.0   \n",
       "\n",
       "    location        date  \n",
       "0     Tây Hồ  2025-07-14  \n",
       "1    Gia Lâm  2025-07-14  \n",
       "2  Hoàng Mai  2025-07-14  \n",
       "3  Long Biên  2025-07-14  \n",
       "4  Long Biên  2025-07-14  "
      ]
     },
     "execution_count": 53,
     "metadata": {},
     "output_type": "execute_result"
    }
   ],
   "source": [
    "df.head()"
   ]
  },
  {
   "cell_type": "code",
   "execution_count": 54,
   "id": "02c5b617",
   "metadata": {},
   "outputs": [
    {
     "data": {
      "text/html": [
       "<div>\n",
       "<style scoped>\n",
       "    .dataframe tbody tr th:only-of-type {\n",
       "        vertical-align: middle;\n",
       "    }\n",
       "\n",
       "    .dataframe tbody tr th {\n",
       "        vertical-align: top;\n",
       "    }\n",
       "\n",
       "    .dataframe thead th {\n",
       "        text-align: right;\n",
       "    }\n",
       "</style>\n",
       "<table border=\"1\" class=\"dataframe\">\n",
       "  <thead>\n",
       "    <tr style=\"text-align: right;\">\n",
       "      <th></th>\n",
       "      <th>link</th>\n",
       "      <th>Loại hình nhà ở</th>\n",
       "      <th>Số phòng ngủ</th>\n",
       "      <th>Hướng nhà</th>\n",
       "      <th>Giá(tỷ đồng)</th>\n",
       "      <th>Giá/m²(triệu đồng)</th>\n",
       "      <th>Diện tích</th>\n",
       "      <th>Vị trí</th>\n",
       "      <th>Ngày</th>\n",
       "    </tr>\n",
       "  </thead>\n",
       "  <tbody>\n",
       "    <tr>\n",
       "      <th>0</th>\n",
       "      <td>https://www.nhatot.com/mua-ban-nha-dat-quan-ta...</td>\n",
       "      <td>Nhà mặt phố, mặt tiền</td>\n",
       "      <td>8</td>\n",
       "      <td>Chưa xác định</td>\n",
       "      <td>92.00</td>\n",
       "      <td>594.0</td>\n",
       "      <td>155.0</td>\n",
       "      <td>Tây Hồ</td>\n",
       "      <td>2025-07-14</td>\n",
       "    </tr>\n",
       "    <tr>\n",
       "      <th>1</th>\n",
       "      <td>https://www.nhatot.com/mua-ban-can-ho-chung-cu...</td>\n",
       "      <td>Chung cư</td>\n",
       "      <td>2</td>\n",
       "      <td>Chưa xác định</td>\n",
       "      <td>5.05</td>\n",
       "      <td>66.0</td>\n",
       "      <td>77.0</td>\n",
       "      <td>Gia Lâm</td>\n",
       "      <td>2025-07-14</td>\n",
       "    </tr>\n",
       "    <tr>\n",
       "      <th>2</th>\n",
       "      <td>https://www.nhatot.com/mua-ban-nha-dat-quan-ho...</td>\n",
       "      <td>Nhà ngõ, hẻm</td>\n",
       "      <td>3</td>\n",
       "      <td>Chưa xác định</td>\n",
       "      <td>6.65</td>\n",
       "      <td>185.0</td>\n",
       "      <td>36.0</td>\n",
       "      <td>Hoàng Mai</td>\n",
       "      <td>2025-07-14</td>\n",
       "    </tr>\n",
       "    <tr>\n",
       "      <th>3</th>\n",
       "      <td>https://www.nhatot.com/mua-ban-nha-dat-quan-lo...</td>\n",
       "      <td>Nhà phố liền kề</td>\n",
       "      <td>4</td>\n",
       "      <td>Tây Bắc</td>\n",
       "      <td>26.50</td>\n",
       "      <td>282.0</td>\n",
       "      <td>94.0</td>\n",
       "      <td>Long Biên</td>\n",
       "      <td>2025-07-14</td>\n",
       "    </tr>\n",
       "    <tr>\n",
       "      <th>4</th>\n",
       "      <td>https://www.nhatot.com/mua-ban-can-ho-chung-cu...</td>\n",
       "      <td>Chung cư</td>\n",
       "      <td>3</td>\n",
       "      <td>Đông Bắc</td>\n",
       "      <td>0.10</td>\n",
       "      <td>2.0</td>\n",
       "      <td>51.0</td>\n",
       "      <td>Long Biên</td>\n",
       "      <td>2025-07-14</td>\n",
       "    </tr>\n",
       "  </tbody>\n",
       "</table>\n",
       "</div>"
      ],
      "text/plain": [
       "                                                link        Loại hình nhà ở  \\\n",
       "0  https://www.nhatot.com/mua-ban-nha-dat-quan-ta...  Nhà mặt phố, mặt tiền   \n",
       "1  https://www.nhatot.com/mua-ban-can-ho-chung-cu...               Chung cư   \n",
       "2  https://www.nhatot.com/mua-ban-nha-dat-quan-ho...           Nhà ngõ, hẻm   \n",
       "3  https://www.nhatot.com/mua-ban-nha-dat-quan-lo...        Nhà phố liền kề   \n",
       "4  https://www.nhatot.com/mua-ban-can-ho-chung-cu...               Chung cư   \n",
       "\n",
       "   Số phòng ngủ      Hướng nhà  Giá(tỷ đồng)  Giá/m²(triệu đồng)  Diện tích  \\\n",
       "0             8  Chưa xác định         92.00               594.0      155.0   \n",
       "1             2  Chưa xác định          5.05                66.0       77.0   \n",
       "2             3  Chưa xác định          6.65               185.0       36.0   \n",
       "3             4        Tây Bắc         26.50               282.0       94.0   \n",
       "4             3       Đông Bắc          0.10                 2.0       51.0   \n",
       "\n",
       "      Vị trí        Ngày  \n",
       "0     Tây Hồ  2025-07-14  \n",
       "1    Gia Lâm  2025-07-14  \n",
       "2  Hoàng Mai  2025-07-14  \n",
       "3  Long Biên  2025-07-14  \n",
       "4  Long Biên  2025-07-14  "
      ]
     },
     "execution_count": 54,
     "metadata": {},
     "output_type": "execute_result"
    }
   ],
   "source": [
    "df = df.rename(columns={\n",
    "    'url': 'link',\n",
    "    'property_type': 'Loại hình nhà ở',\n",
    "    'number_bedroom': 'Số phòng ngủ',\n",
    "    'house_direction': 'Hướng nhà',\n",
    "    'total_price': 'Giá(tỷ đồng)',\n",
    "    'price_per_m2': 'Giá/m²(triệu đồng)',\n",
    "    'area': 'Diện tích',\n",
    "    'location': 'Vị trí',\n",
    "    'date': 'Ngày'\n",
    "})\n",
    "df.head()"
   ]
  },
  {
   "cell_type": "code",
   "execution_count": 55,
   "id": "f1237dc7",
   "metadata": {},
   "outputs": [
    {
     "name": "stdout",
     "output_type": "stream",
     "text": [
      "-   Lưu file thành công vào địa chỉ mong muốn  -\n"
     ]
    }
   ],
   "source": [
    "save_path = 'F:\\\\Data Analyst\\\\Viet Nam Real Estate Crawler\\\\data\\\\bat_dong_san_cleaned.csv'\n",
    "df.to_csv(save_path, index=False, encoding='utf-8-sig')\n",
    "print(\"-   Lưu file thành công vào địa chỉ mong muốn  -\") "
   ]
  }
 ],
 "metadata": {
  "kernelspec": {
   "display_name": "Python 3",
   "language": "python",
   "name": "python3"
  },
  "language_info": {
   "codemirror_mode": {
    "name": "ipython",
    "version": 3
   },
   "file_extension": ".py",
   "mimetype": "text/x-python",
   "name": "python",
   "nbconvert_exporter": "python",
   "pygments_lexer": "ipython3",
   "version": "3.12.5"
  }
 },
 "nbformat": 4,
 "nbformat_minor": 5
}
