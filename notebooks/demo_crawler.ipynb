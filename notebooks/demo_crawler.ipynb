{
 "cells": [
  {
   "cell_type": "markdown",
   "id": "40f27dcc",
   "metadata": {},
   "source": [
    "# DEMO CRAWL DATA TỪ TRANG WEB nhatot.com\n",
    "## 1. Mô tả quy trình thực hiện \n",
    "- Chương trình sẽ tự động truy cập vào trang web nhatot.com thông qua Webdriver\n",
    "- Sau đó cũng sẽ tự động tắt đi các thành phần giao diện không cần thiết và có thể cản trở đến quy trình thu thập dữ liệu như thông báo, quảng cáo, gợi ý,...\n",
    "- Chương trình sẽ được lặp qua từng trang sau đó sử dụng thư viện BeautifulSoup4 để phân tích nguồn trang và trích xuất dữ liệu mong muốn \n",
    "- Cuối cùng là đóng gói dữ liệu lại bằng file .csv và kết thúc driver\n",
    "---\n",
    "## 2. Thư viện sử dụng trong chương trình\n",
    "- selenium: Tự động hóa quy trình thu thập dữ liệu\n",
    "  - webdriver\n",
    "  - By\n",
    "  - NoSuchElementException\n",
    "- BeautifulSoup: Phân tích và thu thập dữ liệu từ nguồn trang web\n",
    "- sleep: Làm chậm chương trình nhằm vượt qua các cơ chế chống bot\n",
    "- datetime: Xử lý thời gian thu thập dữ liệu\n",
    "- pandas: Lưu trữ dữ liệu và chuyển đổi sang file .csv\n",
    "---"
   ]
  },
  {
   "cell_type": "code",
   "execution_count": null,
   "id": "14f0b5a7",
   "metadata": {},
   "outputs": [],
   "source": [
    "# Import các thư viện cần thiết\n",
    "from selenium import webdriver\n",
    "from selenium.webdriver.common.by import By\n",
    "from selenium.common.exceptions import NoSuchElementException\n",
    "from time import sleep\n",
    "from bs4 import BeautifulSoup\n",
    "from datetime import datetime\n",
    "import pandas as pd\n",
    "\n",
    "print(\"-   Finish importing modules   -\")"
   ]
  },
  {
   "cell_type": "markdown",
   "id": "e63ecb9f",
   "metadata": {},
   "source": [
    "## 3. Khởi tạo trình duyệt và truy cập trang web mục tiêu"
   ]
  },
  {
   "cell_type": "code",
   "execution_count": null,
   "id": "1bd178f3",
   "metadata": {},
   "outputs": [],
   "source": [
    "# Mở trình duyệt và truy cập vào trang web\n",
    "driver = webdriver.Chrome()\n",
    "url = 'https://www.nhatot.com/mua-ban-bat-dong-san-ha-noi'\n",
    "driver.get(url)\n",
    "print(\"-   Finish opening browser and accessing website   -\")\n",
    "sleep(3)\n",
    "# Đợi cho trang web tải xong nội dung"
   ]
  },
  {
   "cell_type": "code",
   "execution_count": null,
   "id": "1c98e2d3",
   "metadata": {},
   "outputs": [],
   "source": [
    "# Click 2 lần vào màn hình để tắt đi quảng cáo của trang web\n",
    "sleep(5)\n",
    "webdriver.ActionChains(driver).double_click().perform()"
   ]
  },
  {
   "cell_type": "code",
   "execution_count": null,
   "id": "436db964",
   "metadata": {},
   "outputs": [],
   "source": [
    "# Tắt thông báo đăng nhập\n",
    "sleep(3)\n",
    "notification = driver.find_element(By.CLASS_NAME, 'close-btn')\n",
    "notification.click()"
   ]
  },
  {
   "cell_type": "markdown",
   "id": "61cae142",
   "metadata": {},
   "source": [
    "---"
   ]
  },
  {
   "cell_type": "markdown",
   "id": "71195d7d",
   "metadata": {},
   "source": [
    "## 4. Thu thập dữ liệu\n",
    "### 4.1. Xây dựng hàm thu thập dữ liệu trên 1 trang\n",
    "- Thông tin của mỗi bất động sản được chia làm các block trong thẻ li với itemprop = 'itemListElement'. Tuy nhiên ngoài các block chứa thông tin về bất động sản, còn có các item như bộc lọc của trang web,... chính vì thế ta cần lọc ra những block thực sự"
   ]
  },
  {
   "cell_type": "code",
   "execution_count": null,
   "id": "1ade9c47",
   "metadata": {},
   "outputs": [],
   "source": [
    "# Khoi tạo danh sách để lưu trữ dữ liệu và số trang để test\n",
    "raw_data = []\n",
    "number_of_pages = 2\n"
   ]
  },
  {
   "cell_type": "code",
   "execution_count": null,
   "id": "2854a4fe",
   "metadata": {},
   "outputs": [],
   "source": [
    "# Xây dựng hàm lấy dữ liệu nhà đất từ một trang\n",
    "def get_house_data(driver, page_number):\n",
    "    soup = BeautifulSoup(driver.page_source, 'html.parser')\n",
    "    \n",
    "    # Tìm tất cả các blocks chứa bài đăng nhà đất\n",
    "    house_blocks = soup.find_all('li', itemprop = 'itemListElement')\n",
    "    print(f\"Tổng số bài đăng tìm thấy ở trang {page_number+1}: {len(house_blocks)}\")\n",
    "    \n",
    "    results = []\n",
    "    \n",
    "    for i,block in enumerate(house_blocks):\n",
    "        # Lấy thẻ a chứa link chính\n",
    "        link_tag = block.select_one('a[itemprop=\"item\"]')\n",
    "        \n",
    "        # Kiểm tra tính hợp lệ\n",
    "        if not link_tag or not link_tag.has_attr('href'):\n",
    "            continue\n",
    "        raw_href = link_tag['href'].strip()\n",
    "        \n",
    "        # Lọc bỏ các href không phải bài đăng bất đọng sản\n",
    "        if not raw_href.startswith('/mua-ban'): \n",
    "            continue\n",
    "        # Ghép url chuẩn\n",
    "        url = 'https://www.nhatot.com' + raw_href\n",
    "        \n",
    "        # 2. Lấy tt loại hình nhà đất, số pòng ngủ, hướng nhà\n",
    "        type_tag = block.select_one('span.bwq0cbs.tle2ik0')\n",
    "        property_type = type_tag.text.strip() if type_tag else None\n",
    "        \n",
    "        # 3. Lấy tt giá tổng, giá/m2, diện tích(nằm trên cùng 1 dòng)\n",
    "        price_tags = block.select('span.bfe6oav')\n",
    "        total_price = price_tags[0].text.strip() if len(price_tags) > 0 else None\n",
    "        price_per_m2 = price_tags[1].text.strip() if len(price_tags) > 1 else None\n",
    "        area = price_tags[2].text.strip() if len(price_tags) > 2 else None\n",
    "        \n",
    "        # 4. Lấy tt địa chỉ(quận) + thời gian thu thập\n",
    "        location_tag = block.select_one('span.c1u6gyxh.tx5yyjc')\n",
    "        location = location_tag.text.strip() if location_tag else None\n",
    "        time = datetime.now().strftime('%Y-%m-%d')\n",
    "        \n",
    "        # Lưu bản ghi vào results\n",
    "        results.append({\n",
    "            'url': url,\n",
    "            'property_type': property_type,\n",
    "            'total_price': total_price,\n",
    "            'price_per_m2': price_per_m2,\n",
    "            'area': area,\n",
    "            'location': location,\n",
    "            'date': time\n",
    "        })\n",
    "        \n",
    "    # Trả lại kết quả cuối\n",
    "    return results "
   ]
  },
  {
   "cell_type": "markdown",
   "id": "4222e9b4",
   "metadata": {},
   "source": [
    "### 4.2. Lặp qua các trang \n",
    "- nhatot.com có cơ chế chống bot đó là không cho phép các driver truy cập các đường link khác, đồng nghĩa ta sẽ không được chuyển sang trang tiếp theo bằng đường link có đuôi page=x\n",
    "- Ta sẽ bắt buộc phải dùng selenium để tương tác với các button như người thật\n",
    "- Qua quá trình kiểm tra có thể thấy nhatot.com có cơ chế đó là chỉ duy trì các bài đăng trong vòng 3 tuần sẽ được coi là \"các tin mới hoặc tin ưu tiên\" và những bài đăng quá hạn này sẽ không được hiển thị cho người dùng \n",
    "- Chính vì vậy mà trang web chỉ hiển thị tối đa 500 trang với mỗi trang chứa khoảng 23 - 25 bài đăng(không tính đến các tin quảng cáo)\n",
    "- Ở trang 500 thì nút chuyển trang(next) sẽ được đổi tên và \"disable\" không cho phép người dùng thực hiện click"
   ]
  },
  {
   "cell_type": "code",
   "execution_count": null,
   "id": "4815f1f5",
   "metadata": {},
   "outputs": [],
   "source": [
    "# Lặp qua các trang bằng Selenium để thu thập dữ liệu\n",
    "for page in range(number_of_pages):\n",
    "    sleep(3)\n",
    "    raw_data.extend(get_house_data(driver,page))\n",
    "    # Cuộn đến khi gặp thẻ footer để đảm bảo không che đi thanh chuyển trang \n",
    "    while True:\n",
    "        driver.execute_script(\"window.scrollBy(0, 500);\")\n",
    "        sleep(0.5)\n",
    "        try:\n",
    "            # Định vị đến vị trí để thanh chuyển trang hiện ra\n",
    "            paging_div = driver.find_element(By.CLASS_NAME, \"PtyCategoryDescription_contentWrap__uxtat\")\n",
    "            if paging_div.is_displayed():\n",
    "                break\n",
    "        except NoSuchElementException:\n",
    "            continue\n",
    "    sleep(2)\n",
    "    try:\n",
    "        # Kiểm tra xem có nút \"next\" còn hoạt động không\n",
    "        next_icon = driver.find_element(By.CLASS_NAME, 'Paging_rightIconDisable__G58AE')\n",
    "        print(f\"Trang {page+1} là trang cuối cùng. Dừng vòng lặp.\")\n",
    "        break  # Đã đến trang cuối → không bấm next nữa\n",
    "    except NoSuchElementException:\n",
    "        try:\n",
    "            # Nếu không phải disabled → vẫn còn trang sau → bấm next\n",
    "            next_button = driver.find_element(By.CLASS_NAME, 'Paging_rightIcon__3p8MS')\n",
    "            next_button.click()\n",
    "            print(f\"-   Hoàn thành thu thập dữ liệu ở trang {page+1}   -\")\n",
    "        except NoSuchElementException:\n",
    "            print(f\"Không tìm thấy nút next ở trang {page+1}. Dừng lại.\")\n",
    "            break\n",
    "\n",
    "print(f\"Số bài đăng hợp lệ: {len(raw_data)}\")       "
   ]
  },
  {
   "cell_type": "code",
   "execution_count": null,
   "id": "8921d91d",
   "metadata": {},
   "outputs": [],
   "source": [
    "print(raw_data[1])"
   ]
  },
  {
   "cell_type": "markdown",
   "id": "ba07312b",
   "metadata": {},
   "source": [
    "### 4.3. Lưu trữ dữ liệu\n",
    "- Dữ liệu sẽ được chuyển đổi sang DataFrame và lưu dưới dạng .csv"
   ]
  },
  {
   "cell_type": "code",
   "execution_count": null,
   "id": "9fdb2670",
   "metadata": {},
   "outputs": [],
   "source": [
    "df = pd.DataFrame(raw_data)\n",
    "save_path = 'F:\\\\Data Analyst\\\\Viet Nam Real Estate Crawler\\\\bat_dong_san.csv'\n",
    "df.to_csv(save_path, index=False, encoding='utf-8-sig')\n",
    "print(\"-   Finish saving data to CSV file   -\")"
   ]
  }
 ],
 "metadata": {
  "kernelspec": {
   "display_name": "Python 3",
   "language": "python",
   "name": "python3"
  },
  "language_info": {
   "codemirror_mode": {
    "name": "ipython",
    "version": 3
   },
   "file_extension": ".py",
   "mimetype": "text/x-python",
   "name": "python",
   "nbconvert_exporter": "python",
   "pygments_lexer": "ipython3",
   "version": "3.12.5"
  }
 },
 "nbformat": 4,
 "nbformat_minor": 5
}
